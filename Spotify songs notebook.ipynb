{
 "cells": [
  {
   "cell_type": "markdown",
   "metadata": {},
   "source": [
    "# Canciones mas populares de 2019 en Spotify"
   ]
  },
  {
   "cell_type": "markdown",
   "metadata": {},
   "source": [
    "Dataset sacado de [Kaggle](https://www.kaggle.com/leonardopena/top50spotify2019), al que he añadido algunos de los *featurings* que faltaban en los títulos de las canciones, y añadido el número de artistas en cada canción"
   ]
  },
  {
   "cell_type": "code",
   "execution_count": 1,
   "metadata": {
    "collapsed": true
   },
   "outputs": [
    {
     "name": "stderr",
     "output_type": "stream",
     "text": [
      "Warning message:\n",
      "\"package 'tidyverse' was built under R version 3.5.3\"\n",
      "-- \u001b[1mAttaching packages\u001b[22m --------------------------------------- tidyverse 1.2.1 --\n",
      "\n",
      "\u001b[32mv\u001b[39m \u001b[34mggplot2\u001b[39m 3.1.1       \u001b[32mv\u001b[39m \u001b[34mpurrr  \u001b[39m 0.3.2  \n",
      "\u001b[32mv\u001b[39m \u001b[34mtibble \u001b[39m 2.1.1       \u001b[32mv\u001b[39m \u001b[34mdplyr  \u001b[39m 0.8.0.\u001b[31m1\u001b[39m\n",
      "\u001b[32mv\u001b[39m \u001b[34mtidyr  \u001b[39m 0.8.3       \u001b[32mv\u001b[39m \u001b[34mstringr\u001b[39m 1.4.0  \n",
      "\u001b[32mv\u001b[39m \u001b[34mreadr  \u001b[39m 1.3.1       \u001b[32mv\u001b[39m \u001b[34mforcats\u001b[39m 0.4.0  \n",
      "\n",
      "Warning message:\n",
      "\"package 'ggplot2' was built under R version 3.5.3\"\n",
      "Warning message:\n",
      "\"package 'tibble' was built under R version 3.5.3\"\n",
      "Warning message:\n",
      "\"package 'tidyr' was built under R version 3.5.3\"\n",
      "Warning message:\n",
      "\"package 'readr' was built under R version 3.5.3\"\n",
      "Warning message:\n",
      "\"package 'purrr' was built under R version 3.5.3\"\n",
      "Warning message:\n",
      "\"package 'dplyr' was built under R version 3.5.3\"\n",
      "Warning message:\n",
      "\"package 'stringr' was built under R version 3.5.3\"\n",
      "Warning message:\n",
      "\"package 'forcats' was built under R version 3.5.3\"\n",
      "-- \u001b[1mConflicts\u001b[22m ------------------------------------------ tidyverse_conflicts() --\n",
      "\u001b[31mx\u001b[39m \u001b[34mdplyr\u001b[39m::\u001b[32mfilter()\u001b[39m masks \u001b[34mstats\u001b[39m::filter()\n",
      "\u001b[31mx\u001b[39m \u001b[34mdplyr\u001b[39m::\u001b[32mlag()\u001b[39m    masks \u001b[34mstats\u001b[39m::lag()\n",
      "\n"
     ]
    }
   ],
   "source": [
    "library(tidyverse)"
   ]
  },
  {
   "cell_type": "markdown",
   "metadata": {},
   "source": [
    "Lo primero, cargar y ver la tabla"
   ]
  },
  {
   "cell_type": "code",
   "execution_count": 59,
   "metadata": {},
   "outputs": [
    {
     "data": {
      "text/html": [
       "<table>\n",
       "<caption>A data.frame: 50 × 15</caption>\n",
       "<thead>\n",
       "\t<tr><th scope=col>Rank</th><th scope=col>Track.Name</th><th scope=col>Artist.Name</th><th scope=col>Num.Artists</th><th scope=col>Genre</th><th scope=col>Beats.Per.Minute</th><th scope=col>Energy</th><th scope=col>Danceability</th><th scope=col>Loudness..dB..</th><th scope=col>Liveness</th><th scope=col>Valence.</th><th scope=col>Length.</th><th scope=col>Acousticness..</th><th scope=col>Speechiness.</th><th scope=col>Popularity</th></tr>\n",
       "\t<tr><th scope=col>&lt;int&gt;</th><th scope=col>&lt;fct&gt;</th><th scope=col>&lt;fct&gt;</th><th scope=col>&lt;int&gt;</th><th scope=col>&lt;fct&gt;</th><th scope=col>&lt;int&gt;</th><th scope=col>&lt;int&gt;</th><th scope=col>&lt;int&gt;</th><th scope=col>&lt;int&gt;</th><th scope=col>&lt;int&gt;</th><th scope=col>&lt;int&gt;</th><th scope=col>&lt;int&gt;</th><th scope=col>&lt;int&gt;</th><th scope=col>&lt;int&gt;</th><th scope=col>&lt;int&gt;</th></tr>\n",
       "</thead>\n",
       "<tbody>\n",
       "\t<tr><td> 1</td><td>Señorita (ft. Camila Cabello)                                 </td><td>Shawn Mendes    </td><td>2</td><td>canadian pop    </td><td>117</td><td>55</td><td>76</td><td> -6</td><td> 8</td><td>75</td><td>191</td><td> 4</td><td> 3</td><td>79</td></tr>\n",
       "\t<tr><td> 2</td><td><span style=white-space:pre-wrap>China (ft. Daddy Yankee &amp; Ozuna &amp; Karol G &amp; J Balvin          </span></td><td><span style=white-space:pre-wrap>Anuel AA        </span></td><td>5</td><td><span style=white-space:pre-wrap>reggaeton flow  </span></td><td>105</td><td>81</td><td>79</td><td> -4</td><td> 8</td><td>61</td><td>302</td><td> 8</td><td> 9</td><td>92</td></tr>\n",
       "\t<tr><td> 3</td><td>boyfriend (with Social House)                                 </td><td>Ariana Grande   </td><td>2</td><td>dance pop       </td><td>190</td><td>80</td><td>40</td><td> -4</td><td>16</td><td>70</td><td>186</td><td>12</td><td>46</td><td>85</td></tr>\n",
       "\t<tr><td> 4</td><td>Beautiful People (feat. Khalid)                               </td><td>Ed Sheeran      </td><td>2</td><td>pop             </td><td> 93</td><td>65</td><td>64</td><td> -8</td><td> 8</td><td>55</td><td>198</td><td>12</td><td>19</td><td>86</td></tr>\n",
       "\t<tr><td> 5</td><td>Goodbyes (Feat. Young Thug)                                   </td><td>Post Malone     </td><td>2</td><td>dfw rap         </td><td>150</td><td>65</td><td>58</td><td> -4</td><td>11</td><td>18</td><td>175</td><td>45</td><td> 7</td><td>94</td></tr>\n",
       "\t<tr><td> 6</td><td>I Don't Care (with Justin Bieber)                             </td><td>Ed Sheeran      </td><td>2</td><td>pop             </td><td>102</td><td>68</td><td>80</td><td> -5</td><td> 9</td><td>84</td><td>220</td><td> 9</td><td> 4</td><td>84</td></tr>\n",
       "\t<tr><td> 7</td><td>Ransom                                                        </td><td>Lil Tecca       </td><td>1</td><td>trap music      </td><td>180</td><td>64</td><td>75</td><td> -6</td><td> 7</td><td>23</td><td>131</td><td> 2</td><td>29</td><td>92</td></tr>\n",
       "\t<tr><td> 8</td><td>How Do You Sleep?                                             </td><td>Sam Smith       </td><td>1</td><td>pop             </td><td>111</td><td>68</td><td>48</td><td> -5</td><td> 8</td><td>35</td><td>202</td><td>15</td><td> 9</td><td>90</td></tr>\n",
       "\t<tr><td> 9</td><td>Old Town Road (ft. Billy Ray Cyrus)                           </td><td>Lil Nas X       </td><td>2</td><td>country rap     </td><td>136</td><td>62</td><td>88</td><td> -6</td><td>11</td><td>64</td><td>157</td><td> 5</td><td>10</td><td>87</td></tr>\n",
       "\t<tr><td>10</td><td>bad guy                                                       </td><td>Billie Eilish   </td><td>1</td><td>electropop      </td><td>135</td><td>43</td><td>70</td><td>-11</td><td>10</td><td>56</td><td>194</td><td>33</td><td>38</td><td>95</td></tr>\n",
       "\t<tr><td>11</td><td>Callaita                                                      </td><td>Bad Bunny       </td><td>1</td><td>reggaeton       </td><td>176</td><td>62</td><td>61</td><td> -5</td><td>24</td><td>24</td><td>251</td><td>60</td><td>31</td><td>93</td></tr>\n",
       "\t<tr><td>12</td><td><span style=white-space:pre-wrap>Loco Contigo (feat. J. Balvin &amp; Tyga)                         </span></td><td><span style=white-space:pre-wrap>DJ Snake        </span></td><td>2</td><td><span style=white-space:pre-wrap>dance pop       </span></td><td> 96</td><td>71</td><td>82</td><td> -4</td><td>15</td><td>38</td><td>185</td><td>28</td><td> 7</td><td>86</td></tr>\n",
       "\t<tr><td>13</td><td>Someone You Loved                                             </td><td>Lewis Capaldi   </td><td>1</td><td>pop             </td><td>110</td><td>41</td><td>50</td><td> -6</td><td>11</td><td>45</td><td>182</td><td>75</td><td> 3</td><td>88</td></tr>\n",
       "\t<tr><td>14</td><td><span style=white-space:pre-wrap>Otro Trago - Remix (ft. Darell Nicky Jam &amp; Ozuna &amp; Anuel AA)  </span></td><td><span style=white-space:pre-wrap>Sech            </span></td><td>4</td><td><span style=white-space:pre-wrap>panamanian pop  </span></td><td>176</td><td>79</td><td>73</td><td> -2</td><td> 6</td><td>76</td><td>288</td><td> 7</td><td>20</td><td>87</td></tr>\n",
       "\t<tr><td>15</td><td>Money In The Grave (ft. Rick Ross)                            </td><td>Drake           </td><td>2</td><td>canadian hip hop</td><td>101</td><td>50</td><td>83</td><td> -4</td><td>12</td><td>10</td><td>205</td><td>10</td><td> 5</td><td>92</td></tr>\n",
       "\t<tr><td>16</td><td>No Guidance (feat. Drake)                                     </td><td>Chris Brown     </td><td>2</td><td>dance pop       </td><td> 93</td><td>45</td><td>70</td><td> -7</td><td>16</td><td>14</td><td>261</td><td>12</td><td>15</td><td>82</td></tr>\n",
       "\t<tr><td>17</td><td>LA CANCIÓN (ft. Bad Bunny)                                    </td><td>J Balvin        </td><td>2</td><td>latin           </td><td>176</td><td>65</td><td>75</td><td> -6</td><td>11</td><td>43</td><td>243</td><td>15</td><td>32</td><td>90</td></tr>\n",
       "\t<tr><td>18</td><td>Sunflower - Spider-Man: Into the Spider-Verse (ft. Swae Lee)  </td><td>Post Malone     </td><td>2</td><td>dfw rap         </td><td> 90</td><td>48</td><td>76</td><td> -6</td><td> 7</td><td>91</td><td>158</td><td>56</td><td> 5</td><td>91</td></tr>\n",
       "\t<tr><td>19</td><td>Lalala (ft. Bbno$)                                            </td><td>Y2K             </td><td>2</td><td>canadian hip hop</td><td>130</td><td>39</td><td>84</td><td> -8</td><td>14</td><td>50</td><td>161</td><td>18</td><td> 8</td><td>88</td></tr>\n",
       "\t<tr><td>20</td><td>Truth Hurts                                                   </td><td>Lizzo           </td><td>1</td><td>escape room     </td><td>158</td><td>62</td><td>72</td><td> -3</td><td>12</td><td>41</td><td>173</td><td>11</td><td>11</td><td>91</td></tr>\n",
       "\t<tr><td>21</td><td>Piece Of Your Heart (ft. Goodboys)                            </td><td>MEDUZA          </td><td>2</td><td>pop house       </td><td>124</td><td>74</td><td>68</td><td> -7</td><td> 7</td><td>63</td><td>153</td><td> 4</td><td> 3</td><td>91</td></tr>\n",
       "\t<tr><td>22</td><td>Panini                                                        </td><td>Lil Nas X       </td><td>1</td><td>country rap     </td><td>154</td><td>59</td><td>70</td><td> -6</td><td>12</td><td>48</td><td>115</td><td>34</td><td> 8</td><td>91</td></tr>\n",
       "\t<tr><td>23</td><td><span style=white-space:pre-wrap>No Me Conoce - Remix (ft. J Balvin &amp; Bad Bunny)               </span></td><td><span style=white-space:pre-wrap>Jhay Cortez     </span></td><td>3</td><td><span style=white-space:pre-wrap>reggaeton flow  </span></td><td> 92</td><td>79</td><td>81</td><td> -4</td><td> 9</td><td>58</td><td>309</td><td>14</td><td> 7</td><td>83</td></tr>\n",
       "\t<tr><td>24</td><td><span style=white-space:pre-wrap>Soltera - Remix (ft. Bad Bunny &amp; Daddy Yankee)                </span></td><td><span style=white-space:pre-wrap>Lunay           </span></td><td>3</td><td><span style=white-space:pre-wrap>latin           </span></td><td> 92</td><td>78</td><td>80</td><td> -4</td><td>44</td><td>80</td><td>266</td><td>36</td><td> 4</td><td>91</td></tr>\n",
       "\t<tr><td>25</td><td>bad guy (ft. Justin Bieber)                                   </td><td>Billie Eilish   </td><td>2</td><td>electropop      </td><td>135</td><td>45</td><td>67</td><td>-11</td><td>12</td><td>68</td><td>195</td><td>25</td><td>30</td><td>89</td></tr>\n",
       "\t<tr><td>26</td><td>If I Can't Have You                                           </td><td>Shawn Mendes    </td><td>1</td><td>canadian pop    </td><td>124</td><td>82</td><td>69</td><td> -4</td><td>13</td><td>87</td><td>191</td><td>49</td><td> 6</td><td>70</td></tr>\n",
       "\t<tr><td>27</td><td>Dance Monkey                                                  </td><td>Tones and I     </td><td>1</td><td>australian pop  </td><td> 98</td><td>59</td><td>82</td><td> -6</td><td>18</td><td>54</td><td>210</td><td>69</td><td>10</td><td>83</td></tr>\n",
       "\t<tr><td>28</td><td>It's You                                                      </td><td>Ali Gatie       </td><td>1</td><td>canadian hip hop</td><td> 96</td><td>46</td><td>73</td><td> -7</td><td>19</td><td>40</td><td>213</td><td>37</td><td> 3</td><td>89</td></tr>\n",
       "\t<tr><td>29</td><td>Con Calma (ft. Snow)                                          </td><td>Daddy Yankee    </td><td>2</td><td>latin           </td><td> 94</td><td>86</td><td>74</td><td> -3</td><td> 6</td><td>66</td><td>193</td><td>11</td><td> 6</td><td>91</td></tr>\n",
       "\t<tr><td>30</td><td>QUE PRETENDES (ft. Bad Bunny)                                 </td><td>J Balvin        </td><td>2</td><td>latin           </td><td> 93</td><td>79</td><td>64</td><td> -4</td><td>36</td><td>94</td><td>222</td><td> 3</td><td>25</td><td>89</td></tr>\n",
       "\t<tr><td>31</td><td>Takeaway (ft. Illenium)                                       </td><td>The Chainsmokers</td><td>2</td><td>edm             </td><td> 85</td><td>51</td><td>29</td><td> -8</td><td>10</td><td>36</td><td>210</td><td>12</td><td> 4</td><td>84</td></tr>\n",
       "\t<tr><td>32</td><td>7 rings                                                       </td><td>Ariana Grande   </td><td>1</td><td>dance pop       </td><td>140</td><td>32</td><td>78</td><td>-11</td><td> 9</td><td>33</td><td>179</td><td>59</td><td>33</td><td>89</td></tr>\n",
       "\t<tr><td>33</td><td>11 PM                                                         </td><td>Maluma          </td><td>1</td><td>reggaeton       </td><td> 96</td><td>71</td><td>78</td><td> -5</td><td> 9</td><td>68</td><td>176</td><td>22</td><td>28</td><td>89</td></tr>\n",
       "\t<tr><td>34</td><td><span style=white-space:pre-wrap>The London (feat. J. Cole &amp; Travis Scott)                     </span></td><td><span style=white-space:pre-wrap>Young Thug      </span></td><td>3</td><td><span style=white-space:pre-wrap>atl hip hop     </span></td><td> 98</td><td>59</td><td>80</td><td> -7</td><td>13</td><td>18</td><td>200</td><td> 2</td><td>15</td><td>89</td></tr>\n",
       "\t<tr><td>35</td><td>Never Really Over                                             </td><td>Katy Perry      </td><td>1</td><td>dance pop       </td><td>100</td><td>88</td><td>77</td><td> -5</td><td>32</td><td>39</td><td>224</td><td>19</td><td> 6</td><td>89</td></tr>\n",
       "\t<tr><td>36</td><td>Summer Days (feat. Macklemore &amp; Patrick Stump of Fall Out Boy)</td><td><span style=white-space:pre-wrap>Martin Garrix   </span></td><td>3</td><td><span style=white-space:pre-wrap>big room        </span></td><td>114</td><td>72</td><td>66</td><td> -7</td><td>14</td><td>32</td><td>164</td><td>18</td><td> 6</td><td>89</td></tr>\n",
       "\t<tr><td>37</td><td>Otro Trago (ft. Darell)                                       </td><td>Sech            </td><td>2</td><td>panamanian pop  </td><td>176</td><td>70</td><td>75</td><td> -5</td><td>11</td><td>62</td><td>226</td><td>14</td><td>34</td><td>91</td></tr>\n",
       "\t<tr><td>38</td><td>Antisocial (with Travis Scott)                                </td><td>Ed Sheeran      </td><td>2</td><td>pop             </td><td>152</td><td>82</td><td>72</td><td> -5</td><td>36</td><td>91</td><td>162</td><td>13</td><td> 5</td><td>87</td></tr>\n",
       "\t<tr><td>39</td><td>Sucker                                                        </td><td>Jonas Brothers  </td><td>1</td><td>boy band        </td><td>138</td><td>73</td><td>84</td><td> -5</td><td>11</td><td>95</td><td>181</td><td> 4</td><td> 6</td><td>80</td></tr>\n",
       "\t<tr><td>40</td><td>fuck, I'm lonely (ft Anne-Marie)                              </td><td>Lauv            </td><td>2</td><td>dance pop       </td><td> 95</td><td>56</td><td>81</td><td> -6</td><td> 6</td><td>68</td><td>199</td><td>48</td><td> 7</td><td>78</td></tr>\n",
       "\t<tr><td>41</td><td>Higher Love (ft. Whitney Houston)                             </td><td>Kygo            </td><td>2</td><td>edm             </td><td>104</td><td>68</td><td>69</td><td> -7</td><td>10</td><td>40</td><td>228</td><td> 2</td><td> 3</td><td>88</td></tr>\n",
       "\t<tr><td>42</td><td>You Need To Calm Down                                         </td><td>Taylor Swift    </td><td>1</td><td>dance pop       </td><td> 85</td><td>68</td><td>77</td><td> -6</td><td> 7</td><td>73</td><td>171</td><td> 1</td><td> 5</td><td>90</td></tr>\n",
       "\t<tr><td>43</td><td>Shallow (ft. Bradley Cooper)                                  </td><td>Lady Gaga       </td><td>2</td><td>dance pop       </td><td> 96</td><td>39</td><td>57</td><td> -6</td><td>23</td><td>32</td><td>216</td><td>37</td><td> 3</td><td>87</td></tr>\n",
       "\t<tr><td>44</td><td>Talk                                                          </td><td>Khalid          </td><td>1</td><td>pop             </td><td>136</td><td>40</td><td>90</td><td> -9</td><td> 6</td><td>35</td><td>198</td><td> 5</td><td>13</td><td>84</td></tr>\n",
       "\t<tr><td>45</td><td><span style=white-space:pre-wrap>Con Altura (ft. J Balvin)                                     </span></td><td><span style=white-space:pre-wrap>Rosalia         </span></td><td>2</td><td><span style=white-space:pre-wrap>r&amp;b en espanol  </span></td><td> 98</td><td>69</td><td>88</td><td> -4</td><td> 5</td><td>75</td><td>162</td><td>39</td><td>12</td><td>88</td></tr>\n",
       "\t<tr><td>46</td><td>One Thing Right (ft. Kane Brown)                              </td><td>Marshmello      </td><td>2</td><td>brostep         </td><td> 88</td><td>62</td><td>66</td><td> -2</td><td>58</td><td>44</td><td>182</td><td> 7</td><td> 5</td><td>88</td></tr>\n",
       "\t<tr><td>47</td><td>Te Robaré (ft. Ozuna)                                         </td><td>Nicky Jam       </td><td>2</td><td>latin           </td><td>176</td><td>75</td><td>67</td><td> -4</td><td> 8</td><td>80</td><td>202</td><td>24</td><td> 6</td><td>88</td></tr>\n",
       "\t<tr><td>48</td><td>Happier (ft. Bastille)                                        </td><td>Marshmello      </td><td>2</td><td>brostep         </td><td>100</td><td>79</td><td>69</td><td> -3</td><td>17</td><td>67</td><td>214</td><td>19</td><td> 5</td><td>88</td></tr>\n",
       "\t<tr><td>49</td><td>Call You Mine (ft. Bebe Rexha)                                </td><td>The Chainsmokers</td><td>2</td><td>edm             </td><td>104</td><td>70</td><td>59</td><td> -6</td><td>41</td><td>50</td><td>218</td><td>23</td><td> 3</td><td>88</td></tr>\n",
       "\t<tr><td>50</td><td><span style=white-space:pre-wrap>Cross Me (feat. Chance the Rapper &amp; PnB Rock)                 </span></td><td><span style=white-space:pre-wrap>Ed Sheeran      </span></td><td>3</td><td><span style=white-space:pre-wrap>pop             </span></td><td> 95</td><td>79</td><td>75</td><td> -6</td><td> 7</td><td>61</td><td>206</td><td>21</td><td>12</td><td>82</td></tr>\n",
       "</tbody>\n",
       "</table>\n"
      ],
      "text/latex": [
       "A data.frame: 50 × 15\n",
       "\\begin{tabular}{r|lllllllllllllll}\n",
       " Rank & Track.Name & Artist.Name & Num.Artists & Genre & Beats.Per.Minute & Energy & Danceability & Loudness..dB.. & Liveness & Valence. & Length. & Acousticness.. & Speechiness. & Popularity\\\\\n",
       " <int> & <fct> & <fct> & <int> & <fct> & <int> & <int> & <int> & <int> & <int> & <int> & <int> & <int> & <int> & <int>\\\\\n",
       "\\hline\n",
       "\t  1 & Señorita (ft. Camila Cabello)                                  & Shawn Mendes     & 2 & canadian pop     & 117 & 55 & 76 &  -6 &  8 & 75 & 191 &  4 &  3 & 79\\\\\n",
       "\t  2 & China (ft. Daddy Yankee \\& Ozuna \\& Karol G \\& J Balvin           & Anuel AA         & 5 & reggaeton flow   & 105 & 81 & 79 &  -4 &  8 & 61 & 302 &  8 &  9 & 92\\\\\n",
       "\t  3 & boyfriend (with Social House)                                  & Ariana Grande    & 2 & dance pop        & 190 & 80 & 40 &  -4 & 16 & 70 & 186 & 12 & 46 & 85\\\\\n",
       "\t  4 & Beautiful People (feat. Khalid)                                & Ed Sheeran       & 2 & pop              &  93 & 65 & 64 &  -8 &  8 & 55 & 198 & 12 & 19 & 86\\\\\n",
       "\t  5 & Goodbyes (Feat. Young Thug)                                    & Post Malone      & 2 & dfw rap          & 150 & 65 & 58 &  -4 & 11 & 18 & 175 & 45 &  7 & 94\\\\\n",
       "\t  6 & I Don't Care (with Justin Bieber)                              & Ed Sheeran       & 2 & pop              & 102 & 68 & 80 &  -5 &  9 & 84 & 220 &  9 &  4 & 84\\\\\n",
       "\t  7 & Ransom                                                         & Lil Tecca        & 1 & trap music       & 180 & 64 & 75 &  -6 &  7 & 23 & 131 &  2 & 29 & 92\\\\\n",
       "\t  8 & How Do You Sleep?                                              & Sam Smith        & 1 & pop              & 111 & 68 & 48 &  -5 &  8 & 35 & 202 & 15 &  9 & 90\\\\\n",
       "\t  9 & Old Town Road (ft. Billy Ray Cyrus)                            & Lil Nas X        & 2 & country rap      & 136 & 62 & 88 &  -6 & 11 & 64 & 157 &  5 & 10 & 87\\\\\n",
       "\t 10 & bad guy                                                        & Billie Eilish    & 1 & electropop       & 135 & 43 & 70 & -11 & 10 & 56 & 194 & 33 & 38 & 95\\\\\n",
       "\t 11 & Callaita                                                       & Bad Bunny        & 1 & reggaeton        & 176 & 62 & 61 &  -5 & 24 & 24 & 251 & 60 & 31 & 93\\\\\n",
       "\t 12 & Loco Contigo (feat. J. Balvin \\& Tyga)                          & DJ Snake         & 2 & dance pop        &  96 & 71 & 82 &  -4 & 15 & 38 & 185 & 28 &  7 & 86\\\\\n",
       "\t 13 & Someone You Loved                                              & Lewis Capaldi    & 1 & pop              & 110 & 41 & 50 &  -6 & 11 & 45 & 182 & 75 &  3 & 88\\\\\n",
       "\t 14 & Otro Trago - Remix (ft. Darell Nicky Jam \\& Ozuna \\& Anuel AA)   & Sech             & 4 & panamanian pop   & 176 & 79 & 73 &  -2 &  6 & 76 & 288 &  7 & 20 & 87\\\\\n",
       "\t 15 & Money In The Grave (ft. Rick Ross)                             & Drake            & 2 & canadian hip hop & 101 & 50 & 83 &  -4 & 12 & 10 & 205 & 10 &  5 & 92\\\\\n",
       "\t 16 & No Guidance (feat. Drake)                                      & Chris Brown      & 2 & dance pop        &  93 & 45 & 70 &  -7 & 16 & 14 & 261 & 12 & 15 & 82\\\\\n",
       "\t 17 & LA CANCIÓN (ft. Bad Bunny)                                     & J Balvin         & 2 & latin            & 176 & 65 & 75 &  -6 & 11 & 43 & 243 & 15 & 32 & 90\\\\\n",
       "\t 18 & Sunflower - Spider-Man: Into the Spider-Verse (ft. Swae Lee)   & Post Malone      & 2 & dfw rap          &  90 & 48 & 76 &  -6 &  7 & 91 & 158 & 56 &  5 & 91\\\\\n",
       "\t 19 & Lalala (ft. Bbno\\$)                                             & Y2K              & 2 & canadian hip hop & 130 & 39 & 84 &  -8 & 14 & 50 & 161 & 18 &  8 & 88\\\\\n",
       "\t 20 & Truth Hurts                                                    & Lizzo            & 1 & escape room      & 158 & 62 & 72 &  -3 & 12 & 41 & 173 & 11 & 11 & 91\\\\\n",
       "\t 21 & Piece Of Your Heart (ft. Goodboys)                             & MEDUZA           & 2 & pop house        & 124 & 74 & 68 &  -7 &  7 & 63 & 153 &  4 &  3 & 91\\\\\n",
       "\t 22 & Panini                                                         & Lil Nas X        & 1 & country rap      & 154 & 59 & 70 &  -6 & 12 & 48 & 115 & 34 &  8 & 91\\\\\n",
       "\t 23 & No Me Conoce - Remix (ft. J Balvin \\& Bad Bunny)                & Jhay Cortez      & 3 & reggaeton flow   &  92 & 79 & 81 &  -4 &  9 & 58 & 309 & 14 &  7 & 83\\\\\n",
       "\t 24 & Soltera - Remix (ft. Bad Bunny \\& Daddy Yankee)                 & Lunay            & 3 & latin            &  92 & 78 & 80 &  -4 & 44 & 80 & 266 & 36 &  4 & 91\\\\\n",
       "\t 25 & bad guy (ft. Justin Bieber)                                    & Billie Eilish    & 2 & electropop       & 135 & 45 & 67 & -11 & 12 & 68 & 195 & 25 & 30 & 89\\\\\n",
       "\t 26 & If I Can't Have You                                            & Shawn Mendes     & 1 & canadian pop     & 124 & 82 & 69 &  -4 & 13 & 87 & 191 & 49 &  6 & 70\\\\\n",
       "\t 27 & Dance Monkey                                                   & Tones and I      & 1 & australian pop   &  98 & 59 & 82 &  -6 & 18 & 54 & 210 & 69 & 10 & 83\\\\\n",
       "\t 28 & It's You                                                       & Ali Gatie        & 1 & canadian hip hop &  96 & 46 & 73 &  -7 & 19 & 40 & 213 & 37 &  3 & 89\\\\\n",
       "\t 29 & Con Calma (ft. Snow)                                           & Daddy Yankee     & 2 & latin            &  94 & 86 & 74 &  -3 &  6 & 66 & 193 & 11 &  6 & 91\\\\\n",
       "\t 30 & QUE PRETENDES (ft. Bad Bunny)                                  & J Balvin         & 2 & latin            &  93 & 79 & 64 &  -4 & 36 & 94 & 222 &  3 & 25 & 89\\\\\n",
       "\t 31 & Takeaway (ft. Illenium)                                        & The Chainsmokers & 2 & edm              &  85 & 51 & 29 &  -8 & 10 & 36 & 210 & 12 &  4 & 84\\\\\n",
       "\t 32 & 7 rings                                                        & Ariana Grande    & 1 & dance pop        & 140 & 32 & 78 & -11 &  9 & 33 & 179 & 59 & 33 & 89\\\\\n",
       "\t 33 & 11 PM                                                          & Maluma           & 1 & reggaeton        &  96 & 71 & 78 &  -5 &  9 & 68 & 176 & 22 & 28 & 89\\\\\n",
       "\t 34 & The London (feat. J. Cole \\& Travis Scott)                      & Young Thug       & 3 & atl hip hop      &  98 & 59 & 80 &  -7 & 13 & 18 & 200 &  2 & 15 & 89\\\\\n",
       "\t 35 & Never Really Over                                              & Katy Perry       & 1 & dance pop        & 100 & 88 & 77 &  -5 & 32 & 39 & 224 & 19 &  6 & 89\\\\\n",
       "\t 36 & Summer Days (feat. Macklemore \\& Patrick Stump of Fall Out Boy) & Martin Garrix    & 3 & big room         & 114 & 72 & 66 &  -7 & 14 & 32 & 164 & 18 &  6 & 89\\\\\n",
       "\t 37 & Otro Trago (ft. Darell)                                        & Sech             & 2 & panamanian pop   & 176 & 70 & 75 &  -5 & 11 & 62 & 226 & 14 & 34 & 91\\\\\n",
       "\t 38 & Antisocial (with Travis Scott)                                 & Ed Sheeran       & 2 & pop              & 152 & 82 & 72 &  -5 & 36 & 91 & 162 & 13 &  5 & 87\\\\\n",
       "\t 39 & Sucker                                                         & Jonas Brothers   & 1 & boy band         & 138 & 73 & 84 &  -5 & 11 & 95 & 181 &  4 &  6 & 80\\\\\n",
       "\t 40 & fuck, I'm lonely (ft Anne-Marie)                               & Lauv             & 2 & dance pop        &  95 & 56 & 81 &  -6 &  6 & 68 & 199 & 48 &  7 & 78\\\\\n",
       "\t 41 & Higher Love (ft. Whitney Houston)                              & Kygo             & 2 & edm              & 104 & 68 & 69 &  -7 & 10 & 40 & 228 &  2 &  3 & 88\\\\\n",
       "\t 42 & You Need To Calm Down                                          & Taylor Swift     & 1 & dance pop        &  85 & 68 & 77 &  -6 &  7 & 73 & 171 &  1 &  5 & 90\\\\\n",
       "\t 43 & Shallow (ft. Bradley Cooper)                                   & Lady Gaga        & 2 & dance pop        &  96 & 39 & 57 &  -6 & 23 & 32 & 216 & 37 &  3 & 87\\\\\n",
       "\t 44 & Talk                                                           & Khalid           & 1 & pop              & 136 & 40 & 90 &  -9 &  6 & 35 & 198 &  5 & 13 & 84\\\\\n",
       "\t 45 & Con Altura (ft. J Balvin)                                      & Rosalia          & 2 & r\\&b en espanol   &  98 & 69 & 88 &  -4 &  5 & 75 & 162 & 39 & 12 & 88\\\\\n",
       "\t 46 & One Thing Right (ft. Kane Brown)                               & Marshmello       & 2 & brostep          &  88 & 62 & 66 &  -2 & 58 & 44 & 182 &  7 &  5 & 88\\\\\n",
       "\t 47 & Te Robaré (ft. Ozuna)                                          & Nicky Jam        & 2 & latin            & 176 & 75 & 67 &  -4 &  8 & 80 & 202 & 24 &  6 & 88\\\\\n",
       "\t 48 & Happier (ft. Bastille)                                         & Marshmello       & 2 & brostep          & 100 & 79 & 69 &  -3 & 17 & 67 & 214 & 19 &  5 & 88\\\\\n",
       "\t 49 & Call You Mine (ft. Bebe Rexha)                                 & The Chainsmokers & 2 & edm              & 104 & 70 & 59 &  -6 & 41 & 50 & 218 & 23 &  3 & 88\\\\\n",
       "\t 50 & Cross Me (feat. Chance the Rapper \\& PnB Rock)                  & Ed Sheeran       & 3 & pop              &  95 & 79 & 75 &  -6 &  7 & 61 & 206 & 21 & 12 & 82\\\\\n",
       "\\end{tabular}\n"
      ],
      "text/markdown": [
       "\n",
       "A data.frame: 50 × 15\n",
       "\n",
       "| Rank &lt;int&gt; | Track.Name &lt;fct&gt; | Artist.Name &lt;fct&gt; | Num.Artists &lt;int&gt; | Genre &lt;fct&gt; | Beats.Per.Minute &lt;int&gt; | Energy &lt;int&gt; | Danceability &lt;int&gt; | Loudness..dB.. &lt;int&gt; | Liveness &lt;int&gt; | Valence. &lt;int&gt; | Length. &lt;int&gt; | Acousticness.. &lt;int&gt; | Speechiness. &lt;int&gt; | Popularity &lt;int&gt; |\n",
       "|---|---|---|---|---|---|---|---|---|---|---|---|---|---|---|\n",
       "|  1 | Señorita (ft. Camila Cabello)                                  | Shawn Mendes     | 2 | canadian pop     | 117 | 55 | 76 |  -6 |  8 | 75 | 191 |  4 |  3 | 79 |\n",
       "|  2 | China (ft. Daddy Yankee &amp; Ozuna &amp; Karol G &amp; J Balvin           | Anuel AA         | 5 | reggaeton flow   | 105 | 81 | 79 |  -4 |  8 | 61 | 302 |  8 |  9 | 92 |\n",
       "|  3 | boyfriend (with Social House)                                  | Ariana Grande    | 2 | dance pop        | 190 | 80 | 40 |  -4 | 16 | 70 | 186 | 12 | 46 | 85 |\n",
       "|  4 | Beautiful People (feat. Khalid)                                | Ed Sheeran       | 2 | pop              |  93 | 65 | 64 |  -8 |  8 | 55 | 198 | 12 | 19 | 86 |\n",
       "|  5 | Goodbyes (Feat. Young Thug)                                    | Post Malone      | 2 | dfw rap          | 150 | 65 | 58 |  -4 | 11 | 18 | 175 | 45 |  7 | 94 |\n",
       "|  6 | I Don't Care (with Justin Bieber)                              | Ed Sheeran       | 2 | pop              | 102 | 68 | 80 |  -5 |  9 | 84 | 220 |  9 |  4 | 84 |\n",
       "|  7 | Ransom                                                         | Lil Tecca        | 1 | trap music       | 180 | 64 | 75 |  -6 |  7 | 23 | 131 |  2 | 29 | 92 |\n",
       "|  8 | How Do You Sleep?                                              | Sam Smith        | 1 | pop              | 111 | 68 | 48 |  -5 |  8 | 35 | 202 | 15 |  9 | 90 |\n",
       "|  9 | Old Town Road (ft. Billy Ray Cyrus)                            | Lil Nas X        | 2 | country rap      | 136 | 62 | 88 |  -6 | 11 | 64 | 157 |  5 | 10 | 87 |\n",
       "| 10 | bad guy                                                        | Billie Eilish    | 1 | electropop       | 135 | 43 | 70 | -11 | 10 | 56 | 194 | 33 | 38 | 95 |\n",
       "| 11 | Callaita                                                       | Bad Bunny        | 1 | reggaeton        | 176 | 62 | 61 |  -5 | 24 | 24 | 251 | 60 | 31 | 93 |\n",
       "| 12 | Loco Contigo (feat. J. Balvin &amp; Tyga)                          | DJ Snake         | 2 | dance pop        |  96 | 71 | 82 |  -4 | 15 | 38 | 185 | 28 |  7 | 86 |\n",
       "| 13 | Someone You Loved                                              | Lewis Capaldi    | 1 | pop              | 110 | 41 | 50 |  -6 | 11 | 45 | 182 | 75 |  3 | 88 |\n",
       "| 14 | Otro Trago - Remix (ft. Darell Nicky Jam &amp; Ozuna &amp; Anuel AA)   | Sech             | 4 | panamanian pop   | 176 | 79 | 73 |  -2 |  6 | 76 | 288 |  7 | 20 | 87 |\n",
       "| 15 | Money In The Grave (ft. Rick Ross)                             | Drake            | 2 | canadian hip hop | 101 | 50 | 83 |  -4 | 12 | 10 | 205 | 10 |  5 | 92 |\n",
       "| 16 | No Guidance (feat. Drake)                                      | Chris Brown      | 2 | dance pop        |  93 | 45 | 70 |  -7 | 16 | 14 | 261 | 12 | 15 | 82 |\n",
       "| 17 | LA CANCIÓN (ft. Bad Bunny)                                     | J Balvin         | 2 | latin            | 176 | 65 | 75 |  -6 | 11 | 43 | 243 | 15 | 32 | 90 |\n",
       "| 18 | Sunflower - Spider-Man: Into the Spider-Verse (ft. Swae Lee)   | Post Malone      | 2 | dfw rap          |  90 | 48 | 76 |  -6 |  7 | 91 | 158 | 56 |  5 | 91 |\n",
       "| 19 | Lalala (ft. Bbno$)                                             | Y2K              | 2 | canadian hip hop | 130 | 39 | 84 |  -8 | 14 | 50 | 161 | 18 |  8 | 88 |\n",
       "| 20 | Truth Hurts                                                    | Lizzo            | 1 | escape room      | 158 | 62 | 72 |  -3 | 12 | 41 | 173 | 11 | 11 | 91 |\n",
       "| 21 | Piece Of Your Heart (ft. Goodboys)                             | MEDUZA           | 2 | pop house        | 124 | 74 | 68 |  -7 |  7 | 63 | 153 |  4 |  3 | 91 |\n",
       "| 22 | Panini                                                         | Lil Nas X        | 1 | country rap      | 154 | 59 | 70 |  -6 | 12 | 48 | 115 | 34 |  8 | 91 |\n",
       "| 23 | No Me Conoce - Remix (ft. J Balvin &amp; Bad Bunny)                | Jhay Cortez      | 3 | reggaeton flow   |  92 | 79 | 81 |  -4 |  9 | 58 | 309 | 14 |  7 | 83 |\n",
       "| 24 | Soltera - Remix (ft. Bad Bunny &amp; Daddy Yankee)                 | Lunay            | 3 | latin            |  92 | 78 | 80 |  -4 | 44 | 80 | 266 | 36 |  4 | 91 |\n",
       "| 25 | bad guy (ft. Justin Bieber)                                    | Billie Eilish    | 2 | electropop       | 135 | 45 | 67 | -11 | 12 | 68 | 195 | 25 | 30 | 89 |\n",
       "| 26 | If I Can't Have You                                            | Shawn Mendes     | 1 | canadian pop     | 124 | 82 | 69 |  -4 | 13 | 87 | 191 | 49 |  6 | 70 |\n",
       "| 27 | Dance Monkey                                                   | Tones and I      | 1 | australian pop   |  98 | 59 | 82 |  -6 | 18 | 54 | 210 | 69 | 10 | 83 |\n",
       "| 28 | It's You                                                       | Ali Gatie        | 1 | canadian hip hop |  96 | 46 | 73 |  -7 | 19 | 40 | 213 | 37 |  3 | 89 |\n",
       "| 29 | Con Calma (ft. Snow)                                           | Daddy Yankee     | 2 | latin            |  94 | 86 | 74 |  -3 |  6 | 66 | 193 | 11 |  6 | 91 |\n",
       "| 30 | QUE PRETENDES (ft. Bad Bunny)                                  | J Balvin         | 2 | latin            |  93 | 79 | 64 |  -4 | 36 | 94 | 222 |  3 | 25 | 89 |\n",
       "| 31 | Takeaway (ft. Illenium)                                        | The Chainsmokers | 2 | edm              |  85 | 51 | 29 |  -8 | 10 | 36 | 210 | 12 |  4 | 84 |\n",
       "| 32 | 7 rings                                                        | Ariana Grande    | 1 | dance pop        | 140 | 32 | 78 | -11 |  9 | 33 | 179 | 59 | 33 | 89 |\n",
       "| 33 | 11 PM                                                          | Maluma           | 1 | reggaeton        |  96 | 71 | 78 |  -5 |  9 | 68 | 176 | 22 | 28 | 89 |\n",
       "| 34 | The London (feat. J. Cole &amp; Travis Scott)                      | Young Thug       | 3 | atl hip hop      |  98 | 59 | 80 |  -7 | 13 | 18 | 200 |  2 | 15 | 89 |\n",
       "| 35 | Never Really Over                                              | Katy Perry       | 1 | dance pop        | 100 | 88 | 77 |  -5 | 32 | 39 | 224 | 19 |  6 | 89 |\n",
       "| 36 | Summer Days (feat. Macklemore &amp; Patrick Stump of Fall Out Boy) | Martin Garrix    | 3 | big room         | 114 | 72 | 66 |  -7 | 14 | 32 | 164 | 18 |  6 | 89 |\n",
       "| 37 | Otro Trago (ft. Darell)                                        | Sech             | 2 | panamanian pop   | 176 | 70 | 75 |  -5 | 11 | 62 | 226 | 14 | 34 | 91 |\n",
       "| 38 | Antisocial (with Travis Scott)                                 | Ed Sheeran       | 2 | pop              | 152 | 82 | 72 |  -5 | 36 | 91 | 162 | 13 |  5 | 87 |\n",
       "| 39 | Sucker                                                         | Jonas Brothers   | 1 | boy band         | 138 | 73 | 84 |  -5 | 11 | 95 | 181 |  4 |  6 | 80 |\n",
       "| 40 | fuck, I'm lonely (ft Anne-Marie)                               | Lauv             | 2 | dance pop        |  95 | 56 | 81 |  -6 |  6 | 68 | 199 | 48 |  7 | 78 |\n",
       "| 41 | Higher Love (ft. Whitney Houston)                              | Kygo             | 2 | edm              | 104 | 68 | 69 |  -7 | 10 | 40 | 228 |  2 |  3 | 88 |\n",
       "| 42 | You Need To Calm Down                                          | Taylor Swift     | 1 | dance pop        |  85 | 68 | 77 |  -6 |  7 | 73 | 171 |  1 |  5 | 90 |\n",
       "| 43 | Shallow (ft. Bradley Cooper)                                   | Lady Gaga        | 2 | dance pop        |  96 | 39 | 57 |  -6 | 23 | 32 | 216 | 37 |  3 | 87 |\n",
       "| 44 | Talk                                                           | Khalid           | 1 | pop              | 136 | 40 | 90 |  -9 |  6 | 35 | 198 |  5 | 13 | 84 |\n",
       "| 45 | Con Altura (ft. J Balvin)                                      | Rosalia          | 2 | r&amp;b en espanol   |  98 | 69 | 88 |  -4 |  5 | 75 | 162 | 39 | 12 | 88 |\n",
       "| 46 | One Thing Right (ft. Kane Brown)                               | Marshmello       | 2 | brostep          |  88 | 62 | 66 |  -2 | 58 | 44 | 182 |  7 |  5 | 88 |\n",
       "| 47 | Te Robaré (ft. Ozuna)                                          | Nicky Jam        | 2 | latin            | 176 | 75 | 67 |  -4 |  8 | 80 | 202 | 24 |  6 | 88 |\n",
       "| 48 | Happier (ft. Bastille)                                         | Marshmello       | 2 | brostep          | 100 | 79 | 69 |  -3 | 17 | 67 | 214 | 19 |  5 | 88 |\n",
       "| 49 | Call You Mine (ft. Bebe Rexha)                                 | The Chainsmokers | 2 | edm              | 104 | 70 | 59 |  -6 | 41 | 50 | 218 | 23 |  3 | 88 |\n",
       "| 50 | Cross Me (feat. Chance the Rapper &amp; PnB Rock)                  | Ed Sheeran       | 3 | pop              |  95 | 79 | 75 |  -6 |  7 | 61 | 206 | 21 | 12 | 82 |\n",
       "\n"
      ],
      "text/plain": [
       "   Rank Track.Name                                                    \n",
       "1   1   Señorita (ft. Camila Cabello)                                 \n",
       "2   2   China (ft. Daddy Yankee & Ozuna & Karol G & J Balvin          \n",
       "3   3   boyfriend (with Social House)                                 \n",
       "4   4   Beautiful People (feat. Khalid)                               \n",
       "5   5   Goodbyes (Feat. Young Thug)                                   \n",
       "6   6   I Don't Care (with Justin Bieber)                             \n",
       "7   7   Ransom                                                        \n",
       "8   8   How Do You Sleep?                                             \n",
       "9   9   Old Town Road (ft. Billy Ray Cyrus)                           \n",
       "10 10   bad guy                                                       \n",
       "11 11   Callaita                                                      \n",
       "12 12   Loco Contigo (feat. J. Balvin & Tyga)                         \n",
       "13 13   Someone You Loved                                             \n",
       "14 14   Otro Trago - Remix (ft. Darell Nicky Jam & Ozuna & Anuel AA)  \n",
       "15 15   Money In The Grave (ft. Rick Ross)                            \n",
       "16 16   No Guidance (feat. Drake)                                     \n",
       "17 17   LA CANCIÓN (ft. Bad Bunny)                                    \n",
       "18 18   Sunflower - Spider-Man: Into the Spider-Verse (ft. Swae Lee)  \n",
       "19 19   Lalala (ft. Bbno$)                                            \n",
       "20 20   Truth Hurts                                                   \n",
       "21 21   Piece Of Your Heart (ft. Goodboys)                            \n",
       "22 22   Panini                                                        \n",
       "23 23   No Me Conoce - Remix (ft. J Balvin & Bad Bunny)               \n",
       "24 24   Soltera - Remix (ft. Bad Bunny & Daddy Yankee)                \n",
       "25 25   bad guy (ft. Justin Bieber)                                   \n",
       "26 26   If I Can't Have You                                           \n",
       "27 27   Dance Monkey                                                  \n",
       "28 28   It's You                                                      \n",
       "29 29   Con Calma (ft. Snow)                                          \n",
       "30 30   QUE PRETENDES (ft. Bad Bunny)                                 \n",
       "31 31   Takeaway (ft. Illenium)                                       \n",
       "32 32   7 rings                                                       \n",
       "33 33   11 PM                                                         \n",
       "34 34   The London (feat. J. Cole & Travis Scott)                     \n",
       "35 35   Never Really Over                                             \n",
       "36 36   Summer Days (feat. Macklemore & Patrick Stump of Fall Out Boy)\n",
       "37 37   Otro Trago (ft. Darell)                                       \n",
       "38 38   Antisocial (with Travis Scott)                                \n",
       "39 39   Sucker                                                        \n",
       "40 40   fuck, I'm lonely (ft Anne-Marie)                              \n",
       "41 41   Higher Love (ft. Whitney Houston)                             \n",
       "42 42   You Need To Calm Down                                         \n",
       "43 43   Shallow (ft. Bradley Cooper)                                  \n",
       "44 44   Talk                                                          \n",
       "45 45   Con Altura (ft. J Balvin)                                     \n",
       "46 46   One Thing Right (ft. Kane Brown)                              \n",
       "47 47   Te Robaré (ft. Ozuna)                                         \n",
       "48 48   Happier (ft. Bastille)                                        \n",
       "49 49   Call You Mine (ft. Bebe Rexha)                                \n",
       "50 50   Cross Me (feat. Chance the Rapper & PnB Rock)                 \n",
       "   Artist.Name      Num.Artists Genre            Beats.Per.Minute Energy\n",
       "1  Shawn Mendes     2           canadian pop     117              55    \n",
       "2  Anuel AA         5           reggaeton flow   105              81    \n",
       "3  Ariana Grande    2           dance pop        190              80    \n",
       "4  Ed Sheeran       2           pop               93              65    \n",
       "5  Post Malone      2           dfw rap          150              65    \n",
       "6  Ed Sheeran       2           pop              102              68    \n",
       "7  Lil Tecca        1           trap music       180              64    \n",
       "8  Sam Smith        1           pop              111              68    \n",
       "9  Lil Nas X        2           country rap      136              62    \n",
       "10 Billie Eilish    1           electropop       135              43    \n",
       "11 Bad Bunny        1           reggaeton        176              62    \n",
       "12 DJ Snake         2           dance pop         96              71    \n",
       "13 Lewis Capaldi    1           pop              110              41    \n",
       "14 Sech             4           panamanian pop   176              79    \n",
       "15 Drake            2           canadian hip hop 101              50    \n",
       "16 Chris Brown      2           dance pop         93              45    \n",
       "17 J Balvin         2           latin            176              65    \n",
       "18 Post Malone      2           dfw rap           90              48    \n",
       "19 Y2K              2           canadian hip hop 130              39    \n",
       "20 Lizzo            1           escape room      158              62    \n",
       "21 MEDUZA           2           pop house        124              74    \n",
       "22 Lil Nas X        1           country rap      154              59    \n",
       "23 Jhay Cortez      3           reggaeton flow    92              79    \n",
       "24 Lunay            3           latin             92              78    \n",
       "25 Billie Eilish    2           electropop       135              45    \n",
       "26 Shawn Mendes     1           canadian pop     124              82    \n",
       "27 Tones and I      1           australian pop    98              59    \n",
       "28 Ali Gatie        1           canadian hip hop  96              46    \n",
       "29 Daddy Yankee     2           latin             94              86    \n",
       "30 J Balvin         2           latin             93              79    \n",
       "31 The Chainsmokers 2           edm               85              51    \n",
       "32 Ariana Grande    1           dance pop        140              32    \n",
       "33 Maluma           1           reggaeton         96              71    \n",
       "34 Young Thug       3           atl hip hop       98              59    \n",
       "35 Katy Perry       1           dance pop        100              88    \n",
       "36 Martin Garrix    3           big room         114              72    \n",
       "37 Sech             2           panamanian pop   176              70    \n",
       "38 Ed Sheeran       2           pop              152              82    \n",
       "39 Jonas Brothers   1           boy band         138              73    \n",
       "40 Lauv             2           dance pop         95              56    \n",
       "41 Kygo             2           edm              104              68    \n",
       "42 Taylor Swift     1           dance pop         85              68    \n",
       "43 Lady Gaga        2           dance pop         96              39    \n",
       "44 Khalid           1           pop              136              40    \n",
       "45 Rosalia          2           r&b en espanol    98              69    \n",
       "46 Marshmello       2           brostep           88              62    \n",
       "47 Nicky Jam        2           latin            176              75    \n",
       "48 Marshmello       2           brostep          100              79    \n",
       "49 The Chainsmokers 2           edm              104              70    \n",
       "50 Ed Sheeran       3           pop               95              79    \n",
       "   Danceability Loudness..dB.. Liveness Valence. Length. Acousticness..\n",
       "1  76            -6             8       75       191      4            \n",
       "2  79            -4             8       61       302      8            \n",
       "3  40            -4            16       70       186     12            \n",
       "4  64            -8             8       55       198     12            \n",
       "5  58            -4            11       18       175     45            \n",
       "6  80            -5             9       84       220      9            \n",
       "7  75            -6             7       23       131      2            \n",
       "8  48            -5             8       35       202     15            \n",
       "9  88            -6            11       64       157      5            \n",
       "10 70           -11            10       56       194     33            \n",
       "11 61            -5            24       24       251     60            \n",
       "12 82            -4            15       38       185     28            \n",
       "13 50            -6            11       45       182     75            \n",
       "14 73            -2             6       76       288      7            \n",
       "15 83            -4            12       10       205     10            \n",
       "16 70            -7            16       14       261     12            \n",
       "17 75            -6            11       43       243     15            \n",
       "18 76            -6             7       91       158     56            \n",
       "19 84            -8            14       50       161     18            \n",
       "20 72            -3            12       41       173     11            \n",
       "21 68            -7             7       63       153      4            \n",
       "22 70            -6            12       48       115     34            \n",
       "23 81            -4             9       58       309     14            \n",
       "24 80            -4            44       80       266     36            \n",
       "25 67           -11            12       68       195     25            \n",
       "26 69            -4            13       87       191     49            \n",
       "27 82            -6            18       54       210     69            \n",
       "28 73            -7            19       40       213     37            \n",
       "29 74            -3             6       66       193     11            \n",
       "30 64            -4            36       94       222      3            \n",
       "31 29            -8            10       36       210     12            \n",
       "32 78           -11             9       33       179     59            \n",
       "33 78            -5             9       68       176     22            \n",
       "34 80            -7            13       18       200      2            \n",
       "35 77            -5            32       39       224     19            \n",
       "36 66            -7            14       32       164     18            \n",
       "37 75            -5            11       62       226     14            \n",
       "38 72            -5            36       91       162     13            \n",
       "39 84            -5            11       95       181      4            \n",
       "40 81            -6             6       68       199     48            \n",
       "41 69            -7            10       40       228      2            \n",
       "42 77            -6             7       73       171      1            \n",
       "43 57            -6            23       32       216     37            \n",
       "44 90            -9             6       35       198      5            \n",
       "45 88            -4             5       75       162     39            \n",
       "46 66            -2            58       44       182      7            \n",
       "47 67            -4             8       80       202     24            \n",
       "48 69            -3            17       67       214     19            \n",
       "49 59            -6            41       50       218     23            \n",
       "50 75            -6             7       61       206     21            \n",
       "   Speechiness. Popularity\n",
       "1   3           79        \n",
       "2   9           92        \n",
       "3  46           85        \n",
       "4  19           86        \n",
       "5   7           94        \n",
       "6   4           84        \n",
       "7  29           92        \n",
       "8   9           90        \n",
       "9  10           87        \n",
       "10 38           95        \n",
       "11 31           93        \n",
       "12  7           86        \n",
       "13  3           88        \n",
       "14 20           87        \n",
       "15  5           92        \n",
       "16 15           82        \n",
       "17 32           90        \n",
       "18  5           91        \n",
       "19  8           88        \n",
       "20 11           91        \n",
       "21  3           91        \n",
       "22  8           91        \n",
       "23  7           83        \n",
       "24  4           91        \n",
       "25 30           89        \n",
       "26  6           70        \n",
       "27 10           83        \n",
       "28  3           89        \n",
       "29  6           91        \n",
       "30 25           89        \n",
       "31  4           84        \n",
       "32 33           89        \n",
       "33 28           89        \n",
       "34 15           89        \n",
       "35  6           89        \n",
       "36  6           89        \n",
       "37 34           91        \n",
       "38  5           87        \n",
       "39  6           80        \n",
       "40  7           78        \n",
       "41  3           88        \n",
       "42  5           90        \n",
       "43  3           87        \n",
       "44 13           84        \n",
       "45 12           88        \n",
       "46  5           88        \n",
       "47  6           88        \n",
       "48  5           88        \n",
       "49  3           88        \n",
       "50 12           82        "
      ]
     },
     "metadata": {},
     "output_type": "display_data"
    }
   ],
   "source": [
    "all.songs <- read.csv(\"./top50ext.csv\", sep=';')\n",
    "all.songs"
   ]
  },
  {
   "cell_type": "markdown",
   "metadata": {},
   "source": [
    "## Preparación de los datos"
   ]
  },
  {
   "cell_type": "markdown",
   "metadata": {},
   "source": [
    "Lo primero que quiero hacer es generalizar un poco el genero musical, hacer grupos mas amplios.  \n",
    "Voy a cambiar el nombre de la columna **Genre** por **Syle**  \n",
    "y despues voy a hacer una nueva de **Genre** con unas etiquetas de genero mas amplio sacadas de **Style**"
   ]
  },
  {
   "cell_type": "code",
   "execution_count": 60,
   "metadata": {},
   "outputs": [],
   "source": [
    "all.songs$Genre <- as.character(all.songs$Genre)\n",
    "all.songs <- rename(all.songs, Style = Genre)\n"
   ]
  },
  {
   "cell_type": "code",
   "execution_count": 61,
   "metadata": {},
   "outputs": [
    {
     "data": {
      "text/html": [
       "<table>\n",
       "<caption>A data.frame: 3 × 15</caption>\n",
       "<thead>\n",
       "\t<tr><th scope=col>Rank</th><th scope=col>Track.Name</th><th scope=col>Artist.Name</th><th scope=col>Num.Artists</th><th scope=col>Style</th><th scope=col>Beats.Per.Minute</th><th scope=col>Energy</th><th scope=col>Danceability</th><th scope=col>Loudness..dB..</th><th scope=col>Liveness</th><th scope=col>Valence.</th><th scope=col>Length.</th><th scope=col>Acousticness..</th><th scope=col>Speechiness.</th><th scope=col>Popularity</th></tr>\n",
       "\t<tr><th scope=col>&lt;int&gt;</th><th scope=col>&lt;fct&gt;</th><th scope=col>&lt;fct&gt;</th><th scope=col>&lt;int&gt;</th><th scope=col>&lt;chr&gt;</th><th scope=col>&lt;int&gt;</th><th scope=col>&lt;int&gt;</th><th scope=col>&lt;int&gt;</th><th scope=col>&lt;int&gt;</th><th scope=col>&lt;int&gt;</th><th scope=col>&lt;int&gt;</th><th scope=col>&lt;int&gt;</th><th scope=col>&lt;int&gt;</th><th scope=col>&lt;int&gt;</th><th scope=col>&lt;int&gt;</th></tr>\n",
       "</thead>\n",
       "<tbody>\n",
       "\t<tr><td>1</td><td>Señorita (ft. Camila Cabello)                       </td><td>Shawn Mendes </td><td>2</td><td>canadian pop  </td><td>117</td><td>55</td><td>76</td><td>-6</td><td> 8</td><td>75</td><td>191</td><td> 4</td><td> 3</td><td>79</td></tr>\n",
       "\t<tr><td>2</td><td>China (ft. Daddy Yankee &amp; Ozuna &amp; Karol G &amp; J Balvin</td><td><span style=white-space:pre-wrap>Anuel AA     </span></td><td>5</td><td>reggaeton flow</td><td>105</td><td>81</td><td>79</td><td>-4</td><td> 8</td><td>61</td><td>302</td><td> 8</td><td> 9</td><td>92</td></tr>\n",
       "\t<tr><td>3</td><td>boyfriend (with Social House)                       </td><td>Ariana Grande</td><td>2</td><td>dance pop     </td><td>190</td><td>80</td><td>40</td><td>-4</td><td>16</td><td>70</td><td>186</td><td>12</td><td>46</td><td>85</td></tr>\n",
       "</tbody>\n",
       "</table>\n"
      ],
      "text/latex": [
       "A data.frame: 3 × 15\n",
       "\\begin{tabular}{r|lllllllllllllll}\n",
       " Rank & Track.Name & Artist.Name & Num.Artists & Style & Beats.Per.Minute & Energy & Danceability & Loudness..dB.. & Liveness & Valence. & Length. & Acousticness.. & Speechiness. & Popularity\\\\\n",
       " <int> & <fct> & <fct> & <int> & <chr> & <int> & <int> & <int> & <int> & <int> & <int> & <int> & <int> & <int> & <int>\\\\\n",
       "\\hline\n",
       "\t 1 & Señorita (ft. Camila Cabello)                        & Shawn Mendes  & 2 & canadian pop   & 117 & 55 & 76 & -6 &  8 & 75 & 191 &  4 &  3 & 79\\\\\n",
       "\t 2 & China (ft. Daddy Yankee \\& Ozuna \\& Karol G \\& J Balvin & Anuel AA      & 5 & reggaeton flow & 105 & 81 & 79 & -4 &  8 & 61 & 302 &  8 &  9 & 92\\\\\n",
       "\t 3 & boyfriend (with Social House)                        & Ariana Grande & 2 & dance pop      & 190 & 80 & 40 & -4 & 16 & 70 & 186 & 12 & 46 & 85\\\\\n",
       "\\end{tabular}\n"
      ],
      "text/markdown": [
       "\n",
       "A data.frame: 3 × 15\n",
       "\n",
       "| Rank &lt;int&gt; | Track.Name &lt;fct&gt; | Artist.Name &lt;fct&gt; | Num.Artists &lt;int&gt; | Style &lt;chr&gt; | Beats.Per.Minute &lt;int&gt; | Energy &lt;int&gt; | Danceability &lt;int&gt; | Loudness..dB.. &lt;int&gt; | Liveness &lt;int&gt; | Valence. &lt;int&gt; | Length. &lt;int&gt; | Acousticness.. &lt;int&gt; | Speechiness. &lt;int&gt; | Popularity &lt;int&gt; |\n",
       "|---|---|---|---|---|---|---|---|---|---|---|---|---|---|---|\n",
       "| 1 | Señorita (ft. Camila Cabello)                        | Shawn Mendes  | 2 | canadian pop   | 117 | 55 | 76 | -6 |  8 | 75 | 191 |  4 |  3 | 79 |\n",
       "| 2 | China (ft. Daddy Yankee &amp; Ozuna &amp; Karol G &amp; J Balvin | Anuel AA      | 5 | reggaeton flow | 105 | 81 | 79 | -4 |  8 | 61 | 302 |  8 |  9 | 92 |\n",
       "| 3 | boyfriend (with Social House)                        | Ariana Grande | 2 | dance pop      | 190 | 80 | 40 | -4 | 16 | 70 | 186 | 12 | 46 | 85 |\n",
       "\n"
      ],
      "text/plain": [
       "  Rank Track.Name                                           Artist.Name  \n",
       "1 1    Señorita (ft. Camila Cabello)                        Shawn Mendes \n",
       "2 2    China (ft. Daddy Yankee & Ozuna & Karol G & J Balvin Anuel AA     \n",
       "3 3    boyfriend (with Social House)                        Ariana Grande\n",
       "  Num.Artists Style          Beats.Per.Minute Energy Danceability\n",
       "1 2           canadian pop   117              55     76          \n",
       "2 5           reggaeton flow 105              81     79          \n",
       "3 2           dance pop      190              80     40          \n",
       "  Loudness..dB.. Liveness Valence. Length. Acousticness.. Speechiness.\n",
       "1 -6              8       75       191      4              3          \n",
       "2 -4              8       61       302      8              9          \n",
       "3 -4             16       70       186     12             46          \n",
       "  Popularity\n",
       "1 79        \n",
       "2 92        \n",
       "3 85        "
      ]
     },
     "metadata": {},
     "output_type": "display_data"
    }
   ],
   "source": [
    "head(all.songs, 3L)"
   ]
  },
  {
   "cell_type": "code",
   "execution_count": 122,
   "metadata": {},
   "outputs": [],
   "source": [
    "# Crear el nuevo campo de \"Genre\"\n",
    "all.songs$Genre <- NA\n",
    "\n",
    "#Introducir valores en 'Genre' funcion de palabras clave en el campo 'Style'\n",
    "for (i in 1:nrow(all.songs)){\n",
    "    if (str_detect(all.songs[i,'Style'], \"pop\")){\n",
    "        all.songs[i,'Genre'] = \"pop\"\n",
    "    } else if (str_detect(all.songs[i,'Style'], \"trap\")){\n",
    "        all.songs[i,'Genre'] = \"trap\"\n",
    "    } else if (str_detect(all.songs[i,'Style'], \"hop\")){\n",
    "        all.songs[i,'Genre'] = \"hip hop\"\n",
    "    } else if (str_detect(all.songs[i,'Style'], \"rap\")){\n",
    "        all.songs[i,'Genre'] = \"hip hop\"\n",
    "    } else if (str_detect(all.songs[i,'Style'], \"reggaeton\")){\n",
    "        all.songs[i,'Genre'] = \"reggeaton\"\n",
    "    } else if (str_detect(all.songs[i,'Style'], \"r&b\")){\n",
    "        all.songs[i,'Genre'] = \"r&b\"\n",
    "    }else {all.songs[i,'Genre'] = all.songs[i,5]}\n",
    "}"
   ]
  },
  {
   "cell_type": "code",
   "execution_count": 123,
   "metadata": {},
   "outputs": [
    {
     "data": {
      "text/html": [
       "<table>\n",
       "<caption>A data.frame: 10 × 2</caption>\n",
       "<thead>\n",
       "\t<tr><th scope=col>Style</th><th scope=col>Genre</th></tr>\n",
       "\t<tr><th scope=col>&lt;chr&gt;</th><th scope=col>&lt;chr&gt;</th></tr>\n",
       "</thead>\n",
       "<tbody>\n",
       "\t<tr><td>canadian pop  </td><td>pop      </td></tr>\n",
       "\t<tr><td>reggaeton flow</td><td>reggeaton</td></tr>\n",
       "\t<tr><td>dance pop     </td><td>pop      </td></tr>\n",
       "\t<tr><td>pop           </td><td>pop      </td></tr>\n",
       "\t<tr><td>dfw rap       </td><td>hip hop  </td></tr>\n",
       "\t<tr><td>pop           </td><td>pop      </td></tr>\n",
       "\t<tr><td>trap music    </td><td>trap     </td></tr>\n",
       "\t<tr><td>pop           </td><td>pop      </td></tr>\n",
       "\t<tr><td>country rap   </td><td>hip hop  </td></tr>\n",
       "\t<tr><td>electropop    </td><td>pop      </td></tr>\n",
       "</tbody>\n",
       "</table>\n"
      ],
      "text/latex": [
       "A data.frame: 10 × 2\n",
       "\\begin{tabular}{r|ll}\n",
       " Style & Genre\\\\\n",
       " <chr> & <chr>\\\\\n",
       "\\hline\n",
       "\t canadian pop   & pop      \\\\\n",
       "\t reggaeton flow & reggeaton\\\\\n",
       "\t dance pop      & pop      \\\\\n",
       "\t pop            & pop      \\\\\n",
       "\t dfw rap        & hip hop  \\\\\n",
       "\t pop            & pop      \\\\\n",
       "\t trap music     & trap     \\\\\n",
       "\t pop            & pop      \\\\\n",
       "\t country rap    & hip hop  \\\\\n",
       "\t electropop     & pop      \\\\\n",
       "\\end{tabular}\n"
      ],
      "text/markdown": [
       "\n",
       "A data.frame: 10 × 2\n",
       "\n",
       "| Style &lt;chr&gt; | Genre &lt;chr&gt; |\n",
       "|---|---|\n",
       "| canadian pop   | pop       |\n",
       "| reggaeton flow | reggeaton |\n",
       "| dance pop      | pop       |\n",
       "| pop            | pop       |\n",
       "| dfw rap        | hip hop   |\n",
       "| pop            | pop       |\n",
       "| trap music     | trap      |\n",
       "| pop            | pop       |\n",
       "| country rap    | hip hop   |\n",
       "| electropop     | pop       |\n",
       "\n"
      ],
      "text/plain": [
       "   Style          Genre    \n",
       "1  canadian pop   pop      \n",
       "2  reggaeton flow reggeaton\n",
       "3  dance pop      pop      \n",
       "4  pop            pop      \n",
       "5  dfw rap        hip hop  \n",
       "6  pop            pop      \n",
       "7  trap music     trap     \n",
       "8  pop            pop      \n",
       "9  country rap    hip hop  \n",
       "10 electropop     pop      "
      ]
     },
     "metadata": {},
     "output_type": "display_data"
    }
   ],
   "source": [
    "all.songs[1:10,c(\"Style\", \"Genre\")]"
   ]
  },
  {
   "cell_type": "code",
   "execution_count": 77,
   "metadata": {
    "scrolled": true
   },
   "outputs": [
    {
     "data": {
      "text/html": [
       "<table>\n",
       "<caption>A data.frame: 1 × 16</caption>\n",
       "<thead>\n",
       "\t<tr><th scope=col>Rank</th><th scope=col>Track.Name</th><th scope=col>Artist.Name</th><th scope=col>Num.Artists</th><th scope=col>Style</th><th scope=col>Beats.Per.Minute</th><th scope=col>Energy</th><th scope=col>Danceability</th><th scope=col>Loudness..dB..</th><th scope=col>Liveness</th><th scope=col>Valence.</th><th scope=col>Length.</th><th scope=col>Acousticness..</th><th scope=col>Speechiness.</th><th scope=col>Popularity</th><th scope=col>Genre</th></tr>\n",
       "\t<tr><th scope=col>&lt;int&gt;</th><th scope=col>&lt;fct&gt;</th><th scope=col>&lt;fct&gt;</th><th scope=col>&lt;int&gt;</th><th scope=col>&lt;chr&gt;</th><th scope=col>&lt;int&gt;</th><th scope=col>&lt;int&gt;</th><th scope=col>&lt;int&gt;</th><th scope=col>&lt;int&gt;</th><th scope=col>&lt;int&gt;</th><th scope=col>&lt;int&gt;</th><th scope=col>&lt;int&gt;</th><th scope=col>&lt;int&gt;</th><th scope=col>&lt;int&gt;</th><th scope=col>&lt;int&gt;</th><th scope=col>&lt;chr&gt;</th></tr>\n",
       "</thead>\n",
       "<tbody>\n",
       "\t<tr><td>1</td><td>Señorita (ft. Camila Cabello)</td><td>Shawn Mendes</td><td>2</td><td>canadian pop</td><td>117</td><td>55</td><td>76</td><td>-6</td><td>8</td><td>75</td><td>191</td><td>4</td><td>3</td><td>79</td><td>pop</td></tr>\n",
       "</tbody>\n",
       "</table>\n"
      ],
      "text/latex": [
       "A data.frame: 1 × 16\n",
       "\\begin{tabular}{r|llllllllllllllll}\n",
       " Rank & Track.Name & Artist.Name & Num.Artists & Style & Beats.Per.Minute & Energy & Danceability & Loudness..dB.. & Liveness & Valence. & Length. & Acousticness.. & Speechiness. & Popularity & Genre\\\\\n",
       " <int> & <fct> & <fct> & <int> & <chr> & <int> & <int> & <int> & <int> & <int> & <int> & <int> & <int> & <int> & <int> & <chr>\\\\\n",
       "\\hline\n",
       "\t 1 & Señorita (ft. Camila Cabello) & Shawn Mendes & 2 & canadian pop & 117 & 55 & 76 & -6 & 8 & 75 & 191 & 4 & 3 & 79 & pop\\\\\n",
       "\\end{tabular}\n"
      ],
      "text/markdown": [
       "\n",
       "A data.frame: 1 × 16\n",
       "\n",
       "| Rank &lt;int&gt; | Track.Name &lt;fct&gt; | Artist.Name &lt;fct&gt; | Num.Artists &lt;int&gt; | Style &lt;chr&gt; | Beats.Per.Minute &lt;int&gt; | Energy &lt;int&gt; | Danceability &lt;int&gt; | Loudness..dB.. &lt;int&gt; | Liveness &lt;int&gt; | Valence. &lt;int&gt; | Length. &lt;int&gt; | Acousticness.. &lt;int&gt; | Speechiness. &lt;int&gt; | Popularity &lt;int&gt; | Genre &lt;chr&gt; |\n",
       "|---|---|---|---|---|---|---|---|---|---|---|---|---|---|---|---|\n",
       "| 1 | Señorita (ft. Camila Cabello) | Shawn Mendes | 2 | canadian pop | 117 | 55 | 76 | -6 | 8 | 75 | 191 | 4 | 3 | 79 | pop |\n",
       "\n"
      ],
      "text/plain": [
       "  Rank Track.Name                    Artist.Name  Num.Artists Style       \n",
       "1 1    Señorita (ft. Camila Cabello) Shawn Mendes 2           canadian pop\n",
       "  Beats.Per.Minute Energy Danceability Loudness..dB.. Liveness Valence. Length.\n",
       "1 117              55     76           -6             8        75       191    \n",
       "  Acousticness.. Speechiness. Popularity Genre\n",
       "1 4              3            79         pop  "
      ]
     },
     "metadata": {},
     "output_type": "display_data"
    }
   ],
   "source": [
    "head(all.songs, 1)"
   ]
  },
  {
   "cell_type": "code",
   "execution_count": 124,
   "metadata": {},
   "outputs": [
    {
     "data": {
      "text/html": [
       "<table>\n",
       "<caption>A tibble: 11 × 7</caption>\n",
       "<thead>\n",
       "\t<tr><th scope=col>Genre</th><th scope=col>Number of songs</th><th scope=col>Mean number of artists</th><th scope=col>Mean popularity</th><th scope=col>Mean bpm</th><th scope=col>Mean length</th><th scope=col>Mean ranking position</th></tr>\n",
       "\t<tr><th scope=col>&lt;chr&gt;</th><th scope=col>&lt;int&gt;</th><th scope=col>&lt;dbl&gt;</th><th scope=col>&lt;dbl&gt;</th><th scope=col>&lt;dbl&gt;</th><th scope=col>&lt;dbl&gt;</th><th scope=col>&lt;dbl&gt;</th></tr>\n",
       "</thead>\n",
       "<tbody>\n",
       "\t<tr><td>big room   </td><td> 1</td><td>3.00000</td><td>89.00000</td><td>114.00000</td><td>164.0000</td><td>36.0</td></tr>\n",
       "\t<tr><td>boy band   </td><td> 1</td><td>1.00000</td><td>80.00000</td><td>138.00000</td><td>181.0000</td><td>39.0</td></tr>\n",
       "\t<tr><td>brostep    </td><td> 2</td><td>2.00000</td><td>88.00000</td><td> 94.00000</td><td>198.0000</td><td>47.0</td></tr>\n",
       "\t<tr><td>edm        </td><td> 3</td><td>2.00000</td><td>86.66667</td><td> 97.66667</td><td>218.6667</td><td>40.3</td></tr>\n",
       "\t<tr><td>escape room</td><td> 1</td><td>1.00000</td><td>91.00000</td><td>158.00000</td><td>173.0000</td><td>20.0</td></tr>\n",
       "\t<tr><td>hip hop    </td><td> 8</td><td>1.87500</td><td>90.12500</td><td>119.37500</td><td>173.0000</td><td>18.8</td></tr>\n",
       "\t<tr><td>latin      </td><td> 5</td><td>2.20000</td><td>89.80000</td><td>126.20000</td><td>225.2000</td><td>29.4</td></tr>\n",
       "\t<tr><td>pop        </td><td>23</td><td>1.73913</td><td>85.73913</td><td>120.82609</td><td>201.6087</td><td>23.8</td></tr>\n",
       "\t<tr><td><span style=white-space:pre-wrap>r&amp;b        </span></td><td> 1</td><td>2.00000</td><td>88.00000</td><td> 98.00000</td><td>162.0000</td><td>45.0</td></tr>\n",
       "\t<tr><td>reggeaton  </td><td> 4</td><td>2.50000</td><td>89.25000</td><td>117.25000</td><td>259.5000</td><td>17.2</td></tr>\n",
       "\t<tr><td>trap       </td><td> 1</td><td>1.00000</td><td>92.00000</td><td>180.00000</td><td>131.0000</td><td> 7.0</td></tr>\n",
       "</tbody>\n",
       "</table>\n"
      ],
      "text/latex": [
       "A tibble: 11 × 7\n",
       "\\begin{tabular}{r|lllllll}\n",
       " Genre & Number of songs & Mean number of artists & Mean popularity & Mean bpm & Mean length & Mean ranking position\\\\\n",
       " <chr> & <int> & <dbl> & <dbl> & <dbl> & <dbl> & <dbl>\\\\\n",
       "\\hline\n",
       "\t big room    &  1 & 3.00000 & 89.00000 & 114.00000 & 164.0000 & 36.0\\\\\n",
       "\t boy band    &  1 & 1.00000 & 80.00000 & 138.00000 & 181.0000 & 39.0\\\\\n",
       "\t brostep     &  2 & 2.00000 & 88.00000 &  94.00000 & 198.0000 & 47.0\\\\\n",
       "\t edm         &  3 & 2.00000 & 86.66667 &  97.66667 & 218.6667 & 40.3\\\\\n",
       "\t escape room &  1 & 1.00000 & 91.00000 & 158.00000 & 173.0000 & 20.0\\\\\n",
       "\t hip hop     &  8 & 1.87500 & 90.12500 & 119.37500 & 173.0000 & 18.8\\\\\n",
       "\t latin       &  5 & 2.20000 & 89.80000 & 126.20000 & 225.2000 & 29.4\\\\\n",
       "\t pop         & 23 & 1.73913 & 85.73913 & 120.82609 & 201.6087 & 23.8\\\\\n",
       "\t r\\&b         &  1 & 2.00000 & 88.00000 &  98.00000 & 162.0000 & 45.0\\\\\n",
       "\t reggeaton   &  4 & 2.50000 & 89.25000 & 117.25000 & 259.5000 & 17.2\\\\\n",
       "\t trap        &  1 & 1.00000 & 92.00000 & 180.00000 & 131.0000 &  7.0\\\\\n",
       "\\end{tabular}\n"
      ],
      "text/markdown": [
       "\n",
       "A tibble: 11 × 7\n",
       "\n",
       "| Genre &lt;chr&gt; | Number of songs &lt;int&gt; | Mean number of artists &lt;dbl&gt; | Mean popularity &lt;dbl&gt; | Mean bpm &lt;dbl&gt; | Mean length &lt;dbl&gt; | Mean ranking position &lt;dbl&gt; |\n",
       "|---|---|---|---|---|---|---|\n",
       "| big room    |  1 | 3.00000 | 89.00000 | 114.00000 | 164.0000 | 36.0 |\n",
       "| boy band    |  1 | 1.00000 | 80.00000 | 138.00000 | 181.0000 | 39.0 |\n",
       "| brostep     |  2 | 2.00000 | 88.00000 |  94.00000 | 198.0000 | 47.0 |\n",
       "| edm         |  3 | 2.00000 | 86.66667 |  97.66667 | 218.6667 | 40.3 |\n",
       "| escape room |  1 | 1.00000 | 91.00000 | 158.00000 | 173.0000 | 20.0 |\n",
       "| hip hop     |  8 | 1.87500 | 90.12500 | 119.37500 | 173.0000 | 18.8 |\n",
       "| latin       |  5 | 2.20000 | 89.80000 | 126.20000 | 225.2000 | 29.4 |\n",
       "| pop         | 23 | 1.73913 | 85.73913 | 120.82609 | 201.6087 | 23.8 |\n",
       "| r&amp;b         |  1 | 2.00000 | 88.00000 |  98.00000 | 162.0000 | 45.0 |\n",
       "| reggeaton   |  4 | 2.50000 | 89.25000 | 117.25000 | 259.5000 | 17.2 |\n",
       "| trap        |  1 | 1.00000 | 92.00000 | 180.00000 | 131.0000 |  7.0 |\n",
       "\n"
      ],
      "text/plain": [
       "   Genre       Number of songs Mean number of artists Mean popularity Mean bpm \n",
       "1  big room     1              3.00000                89.00000        114.00000\n",
       "2  boy band     1              1.00000                80.00000        138.00000\n",
       "3  brostep      2              2.00000                88.00000         94.00000\n",
       "4  edm          3              2.00000                86.66667         97.66667\n",
       "5  escape room  1              1.00000                91.00000        158.00000\n",
       "6  hip hop      8              1.87500                90.12500        119.37500\n",
       "7  latin        5              2.20000                89.80000        126.20000\n",
       "8  pop         23              1.73913                85.73913        120.82609\n",
       "9  r&b          1              2.00000                88.00000         98.00000\n",
       "10 reggeaton    4              2.50000                89.25000        117.25000\n",
       "11 trap         1              1.00000                92.00000        180.00000\n",
       "   Mean length Mean ranking position\n",
       "1  164.0000    36.0                 \n",
       "2  181.0000    39.0                 \n",
       "3  198.0000    47.0                 \n",
       "4  218.6667    40.3                 \n",
       "5  173.0000    20.0                 \n",
       "6  173.0000    18.8                 \n",
       "7  225.2000    29.4                 \n",
       "8  201.6087    23.8                 \n",
       "9  162.0000    45.0                 \n",
       "10 259.5000    17.2                 \n",
       "11 131.0000     7.0                 "
      ]
     },
     "metadata": {},
     "output_type": "display_data"
    }
   ],
   "source": [
    "#Creo una tabla agrupada por genero, y visualizo algunas de los promedios\n",
    "songs.bygen <- group_by(all.songs, Genre)\n",
    "songs.bygen.summ <- summarise(songs.bygen,\n",
    "          \"Number of songs\" = n(),\n",
    "          \"Mean number of artists\" = mean(Num.Artists),\n",
    "          \"Mean popularity\" = mean(Popularity),\n",
    "          \"Mean bpm\" = mean(Beats.Per.Minute),\n",
    "          \"Mean length\" = mean(Length.),\n",
    "          \"Mean ranking position\" = round(mean(Rank),1))\n",
    "songs.bygen.summ"
   ]
  },
  {
   "cell_type": "code",
   "execution_count": 125,
   "metadata": {},
   "outputs": [],
   "source": [
    "#ggplot no se lleva bien con los nombres de columnas que tienen espacios, asi que:\n",
    "colnames(songs.bygen.summ) <- sub(\" \", \"_\", colnames(songs.bygen.summ))"
   ]
  },
  {
   "cell_type": "markdown",
   "metadata": {},
   "source": [
    "Podemos visualizar ya algunos de los promedios agrupados por estilo"
   ]
  },
  {
   "cell_type": "code",
   "execution_count": 147,
   "metadata": {},
   "outputs": [
    {
     "data": {
      "image/png": "[encoded data removed]",
      "text/plain": [
       "plot without title"
      ]
     },
     "metadata": {
      "image/png": {
       "height": 420,
       "width": 600
      },
      "text/plain": {
       "height": 420,
       "width": 600
      }
     },
     "output_type": "display_data"
    }
   ],
   "source": [
    "options(repr.plot.width=10, repr.plot.height=7) #cambiar la anchura y altura de los plots\n",
    "ggplot(songs.bygen.summ, aes(x=Genre, y=Mean_length, fill=Mean_popularity))+\n",
    "    geom_col()+\n",
    "    scale_fill_gradient(low=\"goldenrod\", high = \"forestgreen\")+\n",
    "    labs(x=\"Genero\", y=\"duracion media\\n(en segundos)\", fill=\"Popularidad\")+\n",
    "    theme_light()+\n",
    "    theme(axis.text.x = element_text(angle = 60))\n",
    "    "
   ]
  },
  {
   "cell_type": "code",
   "execution_count": 164,
   "metadata": {},
   "outputs": [
    {
     "name": "stderr",
     "output_type": "stream",
     "text": [
      "`geom_smooth()` using method = 'loess' and formula 'y ~ x'\n",
      "\n",
      "`geom_smooth()` using method = 'loess' and formula 'y ~ x'\n",
      "\n"
     ]
    },
    {
     "data": {
      "image/png": "[encoded data removed]",
      "text/plain": [
       "plot without title"
      ]
     },
     "metadata": {
      "image/png": {
       "height": 300,
       "width": 480
      },
      "text/plain": {
       "height": 300,
       "width": 480
      }
     },
     "output_type": "display_data"
    },
    {
     "data": {
      "image/png": "[encoded data removed]",
      "text/plain": [
       "plot without title"
      ]
     },
     "metadata": {
      "image/png": {
       "height": 300,
       "width": 480
      },
      "text/plain": {
       "height": 300,
       "width": 480
      }
     },
     "output_type": "display_data"
    }
   ],
   "source": [
    "options(repr.plot.width=8, repr.plot.height=5) \n",
    "ggplot(all.songs, aes(Length., Popularity))+\n",
    "    geom_point(aes(color=Genre),size=5)+\n",
    "    geom_smooth()\n",
    "ggplot(all.songs, aes(Danceability, Popularity))+\n",
    "    geom_point(aes(color=Genre),size=5)+\n",
    "    geom_smooth()"
   ]
  },
  {
   "cell_type": "markdown",
   "metadata": {},
   "source": [
    "## Explorar relaciones entre variables"
   ]
  },
  {
   "cell_type": "markdown",
   "metadata": {},
   "source": [
    "Lo primero, crear una matriz de correlaciones.  \n",
    "Para ello, primero reviso los nombres de las variables (numericas) que me interesan"
   ]
  },
  {
   "cell_type": "code",
   "execution_count": 167,
   "metadata": {},
   "outputs": [
    {
     "data": {
      "text/html": [
       "<ol class=list-inline>\n",
       "\t<li>'Rank'</li>\n",
       "\t<li>'Track.Name'</li>\n",
       "\t<li>'Artist.Name'</li>\n",
       "\t<li>'Num.Artists'</li>\n",
       "\t<li>'Style'</li>\n",
       "\t<li>'Beats.Per.Minute'</li>\n",
       "\t<li>'Energy'</li>\n",
       "\t<li>'Danceability'</li>\n",
       "\t<li>'Loudness..dB..'</li>\n",
       "\t<li>'Liveness'</li>\n",
       "\t<li>'Valence.'</li>\n",
       "\t<li>'Length.'</li>\n",
       "\t<li>'Acousticness..'</li>\n",
       "\t<li>'Speechiness.'</li>\n",
       "\t<li>'Popularity'</li>\n",
       "\t<li>'Genre'</li>\n",
       "</ol>\n"
      ],
      "text/latex": [
       "\\begin{enumerate*}\n",
       "\\item 'Rank'\n",
       "\\item 'Track.Name'\n",
       "\\item 'Artist.Name'\n",
       "\\item 'Num.Artists'\n",
       "\\item 'Style'\n",
       "\\item 'Beats.Per.Minute'\n",
       "\\item 'Energy'\n",
       "\\item 'Danceability'\n",
       "\\item 'Loudness..dB..'\n",
       "\\item 'Liveness'\n",
       "\\item 'Valence.'\n",
       "\\item 'Length.'\n",
       "\\item 'Acousticness..'\n",
       "\\item 'Speechiness.'\n",
       "\\item 'Popularity'\n",
       "\\item 'Genre'\n",
       "\\end{enumerate*}\n"
      ],
      "text/markdown": [
       "1. 'Rank'\n",
       "2. 'Track.Name'\n",
       "3. 'Artist.Name'\n",
       "4. 'Num.Artists'\n",
       "5. 'Style'\n",
       "6. 'Beats.Per.Minute'\n",
       "7. 'Energy'\n",
       "8. 'Danceability'\n",
       "9. 'Loudness..dB..'\n",
       "10. 'Liveness'\n",
       "11. 'Valence.'\n",
       "12. 'Length.'\n",
       "13. 'Acousticness..'\n",
       "14. 'Speechiness.'\n",
       "15. 'Popularity'\n",
       "16. 'Genre'\n",
       "\n",
       "\n"
      ],
      "text/plain": [
       " [1] \"Rank\"             \"Track.Name\"       \"Artist.Name\"      \"Num.Artists\"     \n",
       " [5] \"Style\"            \"Beats.Per.Minute\" \"Energy\"           \"Danceability\"    \n",
       " [9] \"Loudness..dB..\"   \"Liveness\"         \"Valence.\"         \"Length.\"         \n",
       "[13] \"Acousticness..\"   \"Speechiness.\"     \"Popularity\"       \"Genre\"           "
      ]
     },
     "metadata": {},
     "output_type": "display_data"
    }
   ],
   "source": [
    "colnames(all.songs)"
   ]
  },
  {
   "cell_type": "markdown",
   "metadata": {},
   "source": [
    "Y meto en la funcion *cor* las que quiero, por nombre."
   ]
  },
  {
   "cell_type": "code",
   "execution_count": 191,
   "metadata": {},
   "outputs": [
    {
     "data": {
      "text/html": [
       "<table>\n",
       "<caption>A matrix: 12 × 12 of type dbl</caption>\n",
       "<thead>\n",
       "\t<tr><th></th><th scope=col>Num.Artists</th><th scope=col>Beats.Per.Minute</th><th scope=col>Energy</th><th scope=col>Danceability</th><th scope=col>Loudness..dB..</th><th scope=col>Liveness</th><th scope=col>Valence.</th><th scope=col>Length.</th><th scope=col>Acousticness..</th><th scope=col>Speechiness.</th><th scope=col>Rank</th><th scope=col>Popularity</th></tr>\n",
       "</thead>\n",
       "<tbody>\n",
       "\t<tr><th scope=row>Num.Artists</th><td> 1.000</td><td>-0.127</td><td> 0.338</td><td> 0.082</td><td> 0.265</td><td> 0.007</td><td> 0.128</td><td> 0.533</td><td>-0.304</td><td>-0.118</td><td>-0.073</td><td> 0.033</td></tr>\n",
       "\t<tr><th scope=row>Beats.Per.Minute</th><td>-0.127</td><td> 1.000</td><td> 0.044</td><td>-0.094</td><td> 0.017</td><td>-0.167</td><td>-0.012</td><td>-0.139</td><td>-0.031</td><td> 0.557</td><td>-0.259</td><td> 0.196</td></tr>\n",
       "\t<tr><th scope=row>Energy</th><td> 0.338</td><td> 0.044</td><td> 1.000</td><td> 0.018</td><td> 0.671</td><td> 0.163</td><td> 0.439</td><td> 0.225</td><td>-0.340</td><td>-0.090</td><td> 0.103</td><td>-0.080</td></tr>\n",
       "\t<tr><th scope=row>Danceability</th><td> 0.082</td><td>-0.094</td><td> 0.018</td><td> 1.000</td><td> 0.016</td><td>-0.150</td><td> 0.173</td><td> 0.000</td><td>-0.098</td><td>-0.103</td><td> 0.123</td><td>-0.071</td></tr>\n",
       "\t<tr><th scope=row>Loudness..dB..</th><td> 0.265</td><td> 0.017</td><td> 0.671</td><td> 0.016</td><td> 1.000</td><td> 0.259</td><td> 0.238</td><td> 0.219</td><td>-0.138</td><td>-0.272</td><td> 0.012</td><td>-0.043</td></tr>\n",
       "\t<tr><th scope=row>Liveness</th><td> 0.007</td><td>-0.167</td><td> 0.163</td><td>-0.150</td><td> 0.259</td><td> 1.000</td><td> 0.016</td><td> 0.132</td><td> 0.021</td><td>-0.125</td><td> 0.271</td><td> 0.093</td></tr>\n",
       "\t<tr><th scope=row>Valence.</th><td> 0.128</td><td>-0.012</td><td> 0.439</td><td> 0.173</td><td> 0.238</td><td> 0.016</td><td> 1.000</td><td>-0.018</td><td>-0.052</td><td>-0.053</td><td> 0.137</td><td>-0.318</td></tr>\n",
       "\t<tr><th scope=row>Length.</th><td> 0.533</td><td>-0.139</td><td> 0.225</td><td> 0.000</td><td> 0.219</td><td> 0.132</td><td>-0.018</td><td> 1.000</td><td>-0.076</td><td> 0.047</td><td>-0.066</td><td>-0.088</td></tr>\n",
       "\t<tr><th scope=row>Acousticness..</th><td>-0.304</td><td>-0.031</td><td>-0.340</td><td>-0.098</td><td>-0.138</td><td> 0.021</td><td>-0.052</td><td>-0.076</td><td> 1.000</td><td> 0.008</td><td>-0.016</td><td>-0.035</td></tr>\n",
       "\t<tr><th scope=row>Speechiness.</th><td>-0.118</td><td> 0.557</td><td>-0.090</td><td>-0.103</td><td>-0.272</td><td>-0.125</td><td>-0.053</td><td> 0.047</td><td> 0.008</td><td> 1.000</td><td>-0.258</td><td> 0.239</td></tr>\n",
       "\t<tr><th scope=row>Rank</th><td>-0.073</td><td>-0.259</td><td> 0.103</td><td> 0.123</td><td> 0.012</td><td> 0.271</td><td> 0.137</td><td>-0.066</td><td>-0.016</td><td>-0.258</td><td> 1.000</td><td>-0.161</td></tr>\n",
       "\t<tr><th scope=row>Popularity</th><td> 0.033</td><td> 0.196</td><td>-0.080</td><td>-0.071</td><td>-0.043</td><td> 0.093</td><td>-0.318</td><td>-0.088</td><td>-0.035</td><td> 0.239</td><td>-0.161</td><td> 1.000</td></tr>\n",
       "</tbody>\n",
       "</table>\n"
      ],
      "text/latex": [
       "A matrix: 12 × 12 of type dbl\n",
       "\\begin{tabular}{r|llllllllllll}\n",
       "  & Num.Artists & Beats.Per.Minute & Energy & Danceability & Loudness..dB.. & Liveness & Valence. & Length. & Acousticness.. & Speechiness. & Rank & Popularity\\\\\n",
       "\\hline\n",
       "\tNum.Artists &  1.000 & -0.127 &  0.338 &  0.082 &  0.265 &  0.007 &  0.128 &  0.533 & -0.304 & -0.118 & -0.073 &  0.033\\\\\n",
       "\tBeats.Per.Minute & -0.127 &  1.000 &  0.044 & -0.094 &  0.017 & -0.167 & -0.012 & -0.139 & -0.031 &  0.557 & -0.259 &  0.196\\\\\n",
       "\tEnergy &  0.338 &  0.044 &  1.000 &  0.018 &  0.671 &  0.163 &  0.439 &  0.225 & -0.340 & -0.090 &  0.103 & -0.080\\\\\n",
       "\tDanceability &  0.082 & -0.094 &  0.018 &  1.000 &  0.016 & -0.150 &  0.173 &  0.000 & -0.098 & -0.103 &  0.123 & -0.071\\\\\n",
       "\tLoudness..dB.. &  0.265 &  0.017 &  0.671 &  0.016 &  1.000 &  0.259 &  0.238 &  0.219 & -0.138 & -0.272 &  0.012 & -0.043\\\\\n",
       "\tLiveness &  0.007 & -0.167 &  0.163 & -0.150 &  0.259 &  1.000 &  0.016 &  0.132 &  0.021 & -0.125 &  0.271 &  0.093\\\\\n",
       "\tValence. &  0.128 & -0.012 &  0.439 &  0.173 &  0.238 &  0.016 &  1.000 & -0.018 & -0.052 & -0.053 &  0.137 & -0.318\\\\\n",
       "\tLength. &  0.533 & -0.139 &  0.225 &  0.000 &  0.219 &  0.132 & -0.018 &  1.000 & -0.076 &  0.047 & -0.066 & -0.088\\\\\n",
       "\tAcousticness.. & -0.304 & -0.031 & -0.340 & -0.098 & -0.138 &  0.021 & -0.052 & -0.076 &  1.000 &  0.008 & -0.016 & -0.035\\\\\n",
       "\tSpeechiness. & -0.118 &  0.557 & -0.090 & -0.103 & -0.272 & -0.125 & -0.053 &  0.047 &  0.008 &  1.000 & -0.258 &  0.239\\\\\n",
       "\tRank & -0.073 & -0.259 &  0.103 &  0.123 &  0.012 &  0.271 &  0.137 & -0.066 & -0.016 & -0.258 &  1.000 & -0.161\\\\\n",
       "\tPopularity &  0.033 &  0.196 & -0.080 & -0.071 & -0.043 &  0.093 & -0.318 & -0.088 & -0.035 &  0.239 & -0.161 &  1.000\\\\\n",
       "\\end{tabular}\n"
      ],
      "text/markdown": [
       "\n",
       "A matrix: 12 × 12 of type dbl\n",
       "\n",
       "| <!--/--> | Num.Artists | Beats.Per.Minute | Energy | Danceability | Loudness..dB.. | Liveness | Valence. | Length. | Acousticness.. | Speechiness. | Rank | Popularity |\n",
       "|---|---|---|---|---|---|---|---|---|---|---|---|---|\n",
       "| Num.Artists |  1.000 | -0.127 |  0.338 |  0.082 |  0.265 |  0.007 |  0.128 |  0.533 | -0.304 | -0.118 | -0.073 |  0.033 |\n",
       "| Beats.Per.Minute | -0.127 |  1.000 |  0.044 | -0.094 |  0.017 | -0.167 | -0.012 | -0.139 | -0.031 |  0.557 | -0.259 |  0.196 |\n",
       "| Energy |  0.338 |  0.044 |  1.000 |  0.018 |  0.671 |  0.163 |  0.439 |  0.225 | -0.340 | -0.090 |  0.103 | -0.080 |\n",
       "| Danceability |  0.082 | -0.094 |  0.018 |  1.000 |  0.016 | -0.150 |  0.173 |  0.000 | -0.098 | -0.103 |  0.123 | -0.071 |\n",
       "| Loudness..dB.. |  0.265 |  0.017 |  0.671 |  0.016 |  1.000 |  0.259 |  0.238 |  0.219 | -0.138 | -0.272 |  0.012 | -0.043 |\n",
       "| Liveness |  0.007 | -0.167 |  0.163 | -0.150 |  0.259 |  1.000 |  0.016 |  0.132 |  0.021 | -0.125 |  0.271 |  0.093 |\n",
       "| Valence. |  0.128 | -0.012 |  0.439 |  0.173 |  0.238 |  0.016 |  1.000 | -0.018 | -0.052 | -0.053 |  0.137 | -0.318 |\n",
       "| Length. |  0.533 | -0.139 |  0.225 |  0.000 |  0.219 |  0.132 | -0.018 |  1.000 | -0.076 |  0.047 | -0.066 | -0.088 |\n",
       "| Acousticness.. | -0.304 | -0.031 | -0.340 | -0.098 | -0.138 |  0.021 | -0.052 | -0.076 |  1.000 |  0.008 | -0.016 | -0.035 |\n",
       "| Speechiness. | -0.118 |  0.557 | -0.090 | -0.103 | -0.272 | -0.125 | -0.053 |  0.047 |  0.008 |  1.000 | -0.258 |  0.239 |\n",
       "| Rank | -0.073 | -0.259 |  0.103 |  0.123 |  0.012 |  0.271 |  0.137 | -0.066 | -0.016 | -0.258 |  1.000 | -0.161 |\n",
       "| Popularity |  0.033 |  0.196 | -0.080 | -0.071 | -0.043 |  0.093 | -0.318 | -0.088 | -0.035 |  0.239 | -0.161 |  1.000 |\n",
       "\n"
      ],
      "text/plain": [
       "                 Num.Artists Beats.Per.Minute Energy Danceability\n",
       "Num.Artists       1.000      -0.127            0.338  0.082      \n",
       "Beats.Per.Minute -0.127       1.000            0.044 -0.094      \n",
       "Energy            0.338       0.044            1.000  0.018      \n",
       "Danceability      0.082      -0.094            0.018  1.000      \n",
       "Loudness..dB..    0.265       0.017            0.671  0.016      \n",
       "Liveness          0.007      -0.167            0.163 -0.150      \n",
       "Valence.          0.128      -0.012            0.439  0.173      \n",
       "Length.           0.533      -0.139            0.225  0.000      \n",
       "Acousticness..   -0.304      -0.031           -0.340 -0.098      \n",
       "Speechiness.     -0.118       0.557           -0.090 -0.103      \n",
       "Rank             -0.073      -0.259            0.103  0.123      \n",
       "Popularity        0.033       0.196           -0.080 -0.071      \n",
       "                 Loudness..dB.. Liveness Valence. Length. Acousticness..\n",
       "Num.Artists       0.265          0.007    0.128    0.533  -0.304        \n",
       "Beats.Per.Minute  0.017         -0.167   -0.012   -0.139  -0.031        \n",
       "Energy            0.671          0.163    0.439    0.225  -0.340        \n",
       "Danceability      0.016         -0.150    0.173    0.000  -0.098        \n",
       "Loudness..dB..    1.000          0.259    0.238    0.219  -0.138        \n",
       "Liveness          0.259          1.000    0.016    0.132   0.021        \n",
       "Valence.          0.238          0.016    1.000   -0.018  -0.052        \n",
       "Length.           0.219          0.132   -0.018    1.000  -0.076        \n",
       "Acousticness..   -0.138          0.021   -0.052   -0.076   1.000        \n",
       "Speechiness.     -0.272         -0.125   -0.053    0.047   0.008        \n",
       "Rank              0.012          0.271    0.137   -0.066  -0.016        \n",
       "Popularity       -0.043          0.093   -0.318   -0.088  -0.035        \n",
       "                 Speechiness. Rank   Popularity\n",
       "Num.Artists      -0.118       -0.073  0.033    \n",
       "Beats.Per.Minute  0.557       -0.259  0.196    \n",
       "Energy           -0.090        0.103 -0.080    \n",
       "Danceability     -0.103        0.123 -0.071    \n",
       "Loudness..dB..   -0.272        0.012 -0.043    \n",
       "Liveness         -0.125        0.271  0.093    \n",
       "Valence.         -0.053        0.137 -0.318    \n",
       "Length.           0.047       -0.066 -0.088    \n",
       "Acousticness..    0.008       -0.016 -0.035    \n",
       "Speechiness.      1.000       -0.258  0.239    \n",
       "Rank             -0.258        1.000 -0.161    \n",
       "Popularity        0.239       -0.161  1.000    "
      ]
     },
     "metadata": {},
     "output_type": "display_data"
    }
   ],
   "source": [
    "variables.cor <- cor(all.songs[,c('Num.Artists', 'Beats.Per.Minute', 'Energy','Danceability','Loudness..dB..',\n",
    "                 'Liveness', 'Valence.', 'Length.', 'Acousticness..', 'Speechiness.', 'Rank', 'Popularity')],\n",
    "                     method = 'pearson')\n",
    "round(variables.cor, 3) #mostrar con rendondeo a 3 decimales"
   ]
  },
  {
   "cell_type": "markdown",
   "metadata": {},
   "source": [
    "Hay 3 variables que parecen estar más correlancionadas con la popularidad:  \n",
    "**Valence**, que mide (entre 0 y 100) cómo de alegre es una canción (cor = -0.318)  \n",
    "**Speechiness** mide (entre 0 y 100) si hay mucho contenido hablado en la canción (cor = 0.239)  \n",
    "**Beats per minute** o bpm, que indica el tempo de la canción (cor = 0.196)"
   ]
  },
  {
   "cell_type": "code",
   "execution_count": 174,
   "metadata": {},
   "outputs": [
    {
     "data": {
      "text/html": [
       "<table>\n",
       "<caption>A matrix: 4 × 4 of type dbl</caption>\n",
       "<thead>\n",
       "\t<tr><th></th><th scope=col>Valence.</th><th scope=col>Speechiness.</th><th scope=col>Beats.Per.Minute</th><th scope=col>Popularity</th></tr>\n",
       "</thead>\n",
       "<tbody>\n",
       "\t<tr><th scope=row>Valence.</th><td> 1.000</td><td>-0.053</td><td>-0.012</td><td>-0.318</td></tr>\n",
       "\t<tr><th scope=row>Speechiness.</th><td>-0.053</td><td> 1.000</td><td> 0.557</td><td> 0.239</td></tr>\n",
       "\t<tr><th scope=row>Beats.Per.Minute</th><td>-0.012</td><td> 0.557</td><td> 1.000</td><td> 0.196</td></tr>\n",
       "\t<tr><th scope=row>Popularity</th><td>-0.318</td><td> 0.239</td><td> 0.196</td><td> 1.000</td></tr>\n",
       "</tbody>\n",
       "</table>\n"
      ],
      "text/latex": [
       "A matrix: 4 × 4 of type dbl\n",
       "\\begin{tabular}{r|llll}\n",
       "  & Valence. & Speechiness. & Beats.Per.Minute & Popularity\\\\\n",
       "\\hline\n",
       "\tValence. &  1.000 & -0.053 & -0.012 & -0.318\\\\\n",
       "\tSpeechiness. & -0.053 &  1.000 &  0.557 &  0.239\\\\\n",
       "\tBeats.Per.Minute & -0.012 &  0.557 &  1.000 &  0.196\\\\\n",
       "\tPopularity & -0.318 &  0.239 &  0.196 &  1.000\\\\\n",
       "\\end{tabular}\n"
      ],
      "text/markdown": [
       "\n",
       "A matrix: 4 × 4 of type dbl\n",
       "\n",
       "| <!--/--> | Valence. | Speechiness. | Beats.Per.Minute | Popularity |\n",
       "|---|---|---|---|---|\n",
       "| Valence. |  1.000 | -0.053 | -0.012 | -0.318 |\n",
       "| Speechiness. | -0.053 |  1.000 |  0.557 |  0.239 |\n",
       "| Beats.Per.Minute | -0.012 |  0.557 |  1.000 |  0.196 |\n",
       "| Popularity | -0.318 |  0.239 |  0.196 |  1.000 |\n",
       "\n"
      ],
      "text/plain": [
       "                 Valence. Speechiness. Beats.Per.Minute Popularity\n",
       "Valence.          1.000   -0.053       -0.012           -0.318    \n",
       "Speechiness.     -0.053    1.000        0.557            0.239    \n",
       "Beats.Per.Minute -0.012    0.557        1.000            0.196    \n",
       "Popularity       -0.318    0.239        0.196            1.000    "
      ]
     },
     "metadata": {},
     "output_type": "display_data"
    }
   ],
   "source": [
    "round(cor(all.songs[,c('Valence.', 'Speechiness.','Beats.Per.Minute', 'Popularity')]), 3)"
   ]
  },
  {
   "cell_type": "code",
   "execution_count": 176,
   "metadata": {},
   "outputs": [
    {
     "data": {
      "image/png": "[encoded data removed]",
      "text/plain": [
       "Plot with title \"Popularidad\""
      ]
     },
     "metadata": {
      "image/png": {
       "height": 300,
       "width": 900
      },
      "text/plain": {
       "height": 300,
       "width": 900
      }
     },
     "output_type": "display_data"
    }
   ],
   "source": [
    "par(mfrow = c(1,4))\n",
    "options(repr.plot.width=15, repr.plot.height=5)\n",
    "hist(all.songs$Valence., main = \"Valence\")\n",
    "hist(all.songs$Speechiness., main = \"Speechiness\")\n",
    "hist(all.songs$Beats.Per.Minute, main = \"bpm\")\n",
    "hist(all.songs$Popularity, main = \"Popularidad\")\n",
    "par(mfrow = c(1,1))"
   ]
  },
  {
   "cell_type": "markdown",
   "metadata": {},
   "source": [
    "Se puede explorar graficamente las relaciones de cada una con la popularidad"
   ]
  },
  {
   "cell_type": "code",
   "execution_count": 179,
   "metadata": {},
   "outputs": [
    {
     "data": {
      "image/png": "[encoded data removed]",
      "text/plain": [
       "plot without title"
      ]
     },
     "metadata": {
      "image/png": {
       "height": 240,
       "width": 300
      },
      "text/plain": {
       "height": 240,
       "width": 300
      }
     },
     "output_type": "display_data"
    },
    {
     "data": {
      "image/png": "[encoded data removed]",
      "text/plain": [
       "plot without title"
      ]
     },
     "metadata": {
      "image/png": {
       "height": 240,
       "width": 300
      },
      "text/plain": {
       "height": 240,
       "width": 300
      }
     },
     "output_type": "display_data"
    },
    {
     "data": {
      "image/png": "[encoded data removed]",
      "text/plain": [
       "plot without title"
      ]
     },
     "metadata": {
      "image/png": {
       "height": 240,
       "width": 300
      },
      "text/plain": {
       "height": 240,
       "width": 300
      }
     },
     "output_type": "display_data"
    }
   ],
   "source": [
    "options(repr.plot.width=5, repr.plot.height=4) \n",
    "ggplot(all.songs, aes(Valence., Popularity))+\n",
    "    geom_point(size=4)+\n",
    "    geom_smooth(method='lm')+\n",
    "    theme_light()\n",
    "\n",
    "ggplot(all.songs, aes(Speechiness., Popularity))+\n",
    "    geom_point(size=4)+\n",
    "    geom_smooth(method='lm')+\n",
    "    theme_light()\n",
    "\n",
    "ggplot(all.songs, aes(Beats.Per.Minute, Popularity))+\n",
    "    geom_point(size=4)+\n",
    "    geom_smooth(method='lm')+\n",
    "    theme_light()"
   ]
  },
  {
   "cell_type": "code",
   "execution_count": 187,
   "metadata": {},
   "outputs": [
    {
     "name": "stderr",
     "output_type": "stream",
     "text": [
      "`geom_smooth()` using method = 'loess' and formula 'y ~ x'\n",
      "\n"
     ]
    },
    {
     "data": {
      "image/png": "[encoded data removed]",
      "text/plain": [
       "plot without title"
      ]
     },
     "metadata": {
      "image/png": {
       "height": 240,
       "width": 300
      },
      "text/plain": {
       "height": 240,
       "width": 300
      }
     },
     "output_type": "display_data"
    }
   ],
   "source": [
    "ggplot(all.songs, aes(Beats.Per.Minute, Speechiness.))+\n",
    "    geom_point(size=4)+\n",
    "    geom_smooth(method='auto')+\n",
    "    theme_light()"
   ]
  },
  {
   "cell_type": "markdown",
   "metadata": {},
   "source": [
    "La pregunta ahora es:  \n",
    "**¿podemos ajustar un modelo lineal con estas 3 variables para predecir la popularidad?**  \n",
    "\n",
    "\n",
    "y como extra:  \n",
    "**¿Se ajustará mejor que uno con todas las variables?**"
   ]
  },
  {
   "cell_type": "code",
   "execution_count": 181,
   "metadata": {
    "scrolled": true
   },
   "outputs": [
    {
     "data": {
      "text/plain": [
       "\n",
       "Call:\n",
       "lm(formula = Popularity ~ Valence. + Speechiness. + Beats.Per.Minute, \n",
       "    data = all.songs)\n",
       "\n",
       "Residuals:\n",
       "     Min       1Q   Median       3Q      Max \n",
       "-15.1177  -1.5155   0.7489   2.1006   6.6897 \n",
       "\n",
       "Coefficients:\n",
       "                 Estimate Std. Error t value Pr(>|t|)    \n",
       "(Intercept)      88.30161    2.94955  29.937   <2e-16 ***\n",
       "Valence.         -0.06188    0.02727  -2.270    0.028 *  \n",
       "Speechiness.      0.06705    0.06570   1.021    0.313    \n",
       "Beats.Per.Minute  0.01449    0.02370   0.612    0.544    \n",
       "---\n",
       "Signif. codes:  0 '***' 0.001 '**' 0.01 '*' 0.05 '.' 0.1 ' ' 1\n",
       "\n",
       "Residual standard error: 4.256 on 46 degrees of freedom\n",
       "Multiple R-squared:  0.1571,\tAdjusted R-squared:  0.1021 \n",
       "F-statistic: 2.857 on 3 and 46 DF,  p-value: 0.04718\n"
      ]
     },
     "metadata": {},
     "output_type": "display_data"
    }
   ],
   "source": [
    "modelo.simple <- lm(Popularity~Valence.+Speechiness.+Beats.Per.Minute, all.songs)\n",
    "summary(modelo.simple)"
   ]
  },
  {
   "cell_type": "markdown",
   "metadata": {},
   "source": [
    "Con este modelo, las variables solo explican un 15% de la variación en popularidad\n",
    "\n",
    "Ahora, uno con todas las variables numéricas (incluido posición en el ranking y número de artistas)"
   ]
  },
  {
   "cell_type": "code",
   "execution_count": 183,
   "metadata": {},
   "outputs": [
    {
     "data": {
      "text/plain": [
       "\n",
       "Call:\n",
       "lm(formula = Popularity ~ Num.Artists + Beats.Per.Minute + Energy + \n",
       "    Danceability + Loudness..dB.. + Liveness + Valence. + Length. + \n",
       "    Acousticness.. + Speechiness. + Rank, data = all.songs)\n",
       "\n",
       "Residuals:\n",
       "     Min       1Q   Median       3Q      Max \n",
       "-14.0225  -2.0207   0.4144   2.5357   6.3888 \n",
       "\n",
       "Coefficients:\n",
       "                  Estimate Std. Error t value Pr(>|t|)    \n",
       "(Intercept)      90.937320   9.578419   9.494 1.42e-11 ***\n",
       "Num.Artists       1.225404   1.004469   1.220   0.2300    \n",
       "Beats.Per.Minute  0.008499   0.026866   0.316   0.7535    \n",
       "Energy            0.013212   0.072588   0.182   0.8565    \n",
       "Danceability      0.016105   0.056309   0.286   0.7764    \n",
       "Loudness..dB..    0.065822   0.470973   0.140   0.8896    \n",
       "Liveness          0.076362   0.064269   1.188   0.2421    \n",
       "Valence.         -0.072381   0.033174  -2.182   0.0354 *  \n",
       "Length.          -0.030204   0.020537  -1.471   0.1496    \n",
       "Acousticness..    0.002738   0.037706   0.073   0.9425    \n",
       "Speechiness.      0.096948   0.077444   1.252   0.2183    \n",
       "Rank             -0.029531   0.049175  -0.601   0.5517    \n",
       "---\n",
       "Signif. codes:  0 '***' 0.001 '**' 0.01 '*' 0.05 '.' 0.1 ' ' 1\n",
       "\n",
       "Residual standard error: 4.45 on 38 degrees of freedom\n",
       "Multiple R-squared:  0.2386,\tAdjusted R-squared:  0.0182 \n",
       "F-statistic: 1.083 on 11 and 38 DF,  p-value: 0.4003\n"
      ]
     },
     "metadata": {},
     "output_type": "display_data"
    }
   ],
   "source": [
    "modelo.completo <- lm(Popularity~Num.Artists+Beats.Per.Minute+Energy+Danceability+Loudness..dB..+Liveness+Valence.+Length.+Acousticness..+Speechiness.+Rank, all.songs)\n",
    "summary(modelo.completo)"
   ]
  },
  {
   "cell_type": "markdown",
   "metadata": {},
   "source": [
    "Este explicaría un 23%, que sigue sin ser mucho.\n",
    "\n",
    "En realidad, esto es lo esperable, ya que las 50 canciones son relativamente similares muchas de sus caracteristicas,  \n",
    "y todas ellas son muy populares.  \n",
    "Para saber qué hace populares a las canciones, necesitariamos incluir tambien otras menos populares."
   ]
  }
 ],
 "metadata": {
  "kernelspec": {
   "display_name": "R",
   "language": "R",
   "name": "ir"
  },
  "language_info": {
   "codemirror_mode": "r",
   "file_extension": ".r",
   "mimetype": "text/x-r-source",
   "name": "R",
   "pygments_lexer": "r",
   "version": "3.5.2"
  }
 },
 "nbformat": 4,
 "nbformat_minor": 2
}
